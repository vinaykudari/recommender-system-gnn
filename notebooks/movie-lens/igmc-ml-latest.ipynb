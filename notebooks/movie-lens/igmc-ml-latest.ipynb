{
 "cells": [
  {
   "cell_type": "markdown",
   "id": "c947a3c1-9007-4909-b914-29660b516cc5",
   "metadata": {},
   "source": [
    "Inductive Matrix Completion Based On Graph Neural Networks\n",
    "- Link: [Paper](https://openreview.net/pdf?id=ByxxgCEYDS)"
   ]
  },
  {
   "cell_type": "code",
   "execution_count": 1,
   "id": "d317a6e4-dbb9-42e3-8b00-d158641cca27",
   "metadata": {},
   "outputs": [
    {
     "name": "stderr",
     "output_type": "stream",
     "text": [
      "/Users/vinay/miniforge3/lib/python3.9/site-packages/jax/_src/lib/__init__.py:32: UserWarning: JAX on Mac ARM machines is experimental and minimally tested. Please see https://github.com/google/jax/issues/5501 in the event of problems.\n",
      "  warnings.warn(\"JAX on Mac ARM machines is experimental and minimally tested. \"\n"
     ]
    }
   ],
   "source": [
    "from pathlib import Path\n",
    "import sys\n",
    "sys.path.append('../../')\n",
    "import math\n",
    "\n",
    "import pandas as pd\n",
    "import numpy as np\n",
    "import torch.nn.functional as F\n",
    "from torch.optim import Adam\n",
    "from torch_geometric.loader import DataLoader\n",
    "\n",
    "from dataset.movielens import MovieLensDataset\n",
    "from models.igmc import IGMC\n",
    "from helper.igmc_utils import *"
   ]
  },
  {
   "cell_type": "code",
   "execution_count": 2,
   "id": "e6a064db-b27e-449f-94a4-94a88236193c",
   "metadata": {},
   "outputs": [],
   "source": [
    "BASE_PATH = Path('../../raw_data/movie-lens/ml-latest-small')\n",
    "DEVICE = torch.device('cuda' if torch.cuda.is_available() else 'cpu')\n",
    "SEED = 42\n",
    "EPOCHS=2\n",
    "BATCH_SIZE=512\n",
    "LR=1e-3\n",
    "LR_DECAY_STEP = 20\n",
    "LR_DECAY_VALUE = 10"
   ]
  },
  {
   "cell_type": "code",
   "execution_count": 3,
   "id": "970a1ec8-e57f-4836-a61e-03ddb3ccf056",
   "metadata": {},
   "outputs": [],
   "source": [
    "df_movies = pd.read_csv(BASE_PATH/'movies.csv')\n",
    "df_links = pd.read_csv(BASE_PATH/'links.csv')\n",
    "df_tags = pd.read_csv(BASE_PATH/'tags.csv')\n",
    "df_ratings = pd.read_csv(BASE_PATH/'ratings.csv').drop(labels='timestamp', axis=1)"
   ]
  },
  {
   "cell_type": "code",
   "execution_count": 4,
   "id": "472a0e67-1f53-4516-a4a5-6cb1637411e5",
   "metadata": {},
   "outputs": [],
   "source": [
    "df_items, genres, genres_mp  = process_movies(df_movies)\n",
    "(rated_users, rated_users_dict, num_users), (rated_items, rated_items_dict, num_items), ratings = get_nodes(df_ratings)\n",
    "item_features = get_item_features(df_items, rated_items_dict, sparse=False)\n",
    "user_features = get_user_features(df_ratings, df_items, genres, genres_mp, rated_users_dict, n=5, sparse=False)\n",
    "class_values = np.sort(np.unique(ratings))\n",
    "rating_dict = {r: i for i, r in enumerate(np.sort(np.unique(ratings)).tolist())}\n",
    "\n",
    "samples = (rated_users, rated_items, ratings)\n",
    "user_train_idx, item_train_idx, user_test_idx, item_test_idx, train_labels, test_labels = split(samples, rating_dict)\n",
    "\n",
    "data = train_labels + 1.\n",
    "data = data.astype(np.float32)\n",
    "adj_mat = sp.csr_matrix(\n",
    "    (data, [user_train_idx, item_train_idx]), \n",
    "    shape=[num_users, num_items], \n",
    "    dtype=np.float32,\n",
    ")\n",
    "\n",
    "train_dataset = MovieLensDataset(\n",
    "    root='../../raw_data/movie-lens/ml-latest-small',\n",
    "    adj_mat=adj_mat,\n",
    "    links=(user_train_idx, item_train_idx),\n",
    "    labels=train_labels,\n",
    "    h=1,\n",
    "    sample_ratio=1,\n",
    "    max_nodes_per_hop=200,\n",
    "    u_features=user_features,\n",
    "    v_features=item_features,\n",
    "    class_values=class_values,\n",
    ")\n",
    "\n",
    "test_dataset = MovieLensDataset(\n",
    "    root='../../raw_data/movie-lens/ml-latest-small',\n",
    "    adj_mat=adj_mat,\n",
    "    links=(user_test_idx, item_test_idx),\n",
    "    labels=test_labels,\n",
    "    h=1,\n",
    "    sample_ratio=1,\n",
    "    max_nodes_per_hop=200,\n",
    "    u_features=user_features,\n",
    "    v_features=item_features,\n",
    "    class_values=class_values,\n",
    ")\n",
    "\n",
    "train_loader = DataLoader(train_dataset, BATCH_SIZE, shuffle=True, num_workers=0)\n",
    "test_loader = DataLoader(test_dataset, BATCH_SIZE, shuffle=False, num_workers=0)"
   ]
  },
  {
   "cell_type": "code",
   "execution_count": 5,
   "id": "b2e732f1-fcff-42a7-88ba-08972faa8302",
   "metadata": {},
   "outputs": [],
   "source": [
    "num_relations = len(class_values)\n",
    "n_features = user_features.shape[1] + item_features.shape[1]\n",
    "model = IGMC(\n",
    "    train_dataset, \n",
    "    num_relations=num_relations, \n",
    "    num_bases=4,   \n",
    "    side_features=True, \n",
    "    n_side_features=n_features, \n",
    ")"
   ]
  },
  {
   "cell_type": "code",
   "execution_count": 6,
   "id": "2dfe4850-ef96-4f7f-a600-e984c5c0e711",
   "metadata": {
    "tags": []
   },
   "outputs": [
    {
     "name": "stdout",
     "output_type": "stream",
     "text": [
      "14.52 1.34 1.19 1.13 0.99 0.99 1.02 0.97 epoch 1 ; train loss 1.5202495987120823\n",
      "0.98 0.88 1.0 1.14 0.93 0.98 0.98 0.91 epoch 2 ; train loss 0.9598182189823373\n"
     ]
    }
   ],
   "source": [
    "model.to(DEVICE)\n",
    "model.reset_parameters()\n",
    "optimizer = Adam(model.parameters(), lr=LR, weight_decay=0)\n",
    "\n",
    "for epoch in range(1, EPOCHS+1):\n",
    "    model.train()\n",
    "    train_loss_all = 0\n",
    "    for idx, train_batch in enumerate(train_loader):\n",
    "        optimizer.zero_grad()\n",
    "        train_batch = train_batch.to(DEVICE)\n",
    "        y_pred = model(train_batch)\n",
    "        y_true = train_batch.y\n",
    "        train_loss = F.mse_loss(y_pred, y_true)\n",
    "        if idx % 20 == 0:\n",
    "            print(round(train_loss.item(), 2), end=' ')\n",
    "        train_loss.backward()\n",
    "        train_loss_all += BATCH_SIZE * float(train_loss)\n",
    "        optimizer.step()\n",
    "        torch.cuda.empty_cache()\n",
    "        \n",
    "    train_loss_all = train_loss_all / len(train_loader.dataset)\n",
    "    \n",
    "    print('epoch', epoch,'; train loss', train_loss_all)\n",
    "\n",
    "    if epoch % LR_DECAY_STEP == 0:\n",
    "        for param_group in optimizer.param_groups:\n",
    "            param_group['lr'] = param_group['lr'] / LR_DECAY_VALUE"
   ]
  },
  {
   "cell_type": "code",
   "execution_count": 7,
   "id": "10dc2113-1171-4c4d-907d-0867f7024445",
   "metadata": {},
   "outputs": [
    {
     "name": "stderr",
     "output_type": "stream",
     "text": [
      "/Users/vinay/miniforge3/lib/python3.9/site-packages/scipy/sparse/_index.py:82: SparseEfficiencyWarning: Changing the sparsity structure of a csr_matrix is expensive. lil_matrix is more efficient.\n",
      "  self._set_intXint(row, col, x.flat[0])\n"
     ]
    },
    {
     "name": "stdout",
     "output_type": "stream",
     "text": [
      "test MSE loss 0.8951027191900536\n",
      "test RMSE loss 0.9460986836424906\n"
     ]
    }
   ],
   "source": [
    "model.eval()\n",
    "test_loss = 0\n",
    "for test_batch in test_loader:\n",
    "    test_batch = test_batch.to(DEVICE)\n",
    "    with torch.no_grad():\n",
    "        y_pred = model(test_batch)\n",
    "    y_true = test_batch.y\n",
    "    test_loss += F.mse_loss(y_pred, y_true, reduction='sum')\n",
    "mse_loss = float(test_loss) / len(test_loader.dataset)\n",
    "\n",
    "print('test MSE loss', mse_loss)\n",
    "print('test RMSE loss', math.sqrt(mse_loss))"
   ]
  },
  {
   "cell_type": "code",
   "execution_count": 8,
   "id": "447e96a9-8392-47cd-bda9-eee9347d05e6",
   "metadata": {},
   "outputs": [
    {
     "data": {
      "text/plain": [
       "tensor([4.0000, 4.0000, 4.0000, 4.0000, 4.0000, 4.0000, 3.0000, 5.0000, 5.0000,\n",
       "        3.5000, 4.0000, 2.0000, 5.0000, 3.5000, 5.0000, 5.0000, 2.5000, 4.0000,\n",
       "        3.5000, 3.0000, 1.0000, 2.0000, 4.0000, 4.0000, 5.0000, 3.0000, 3.0000,\n",
       "        2.5000, 5.0000, 3.0000, 3.0000, 4.0000, 0.5000, 2.0000, 4.0000, 3.0000,\n",
       "        3.5000, 3.0000, 2.5000, 5.0000, 5.0000, 4.5000, 1.0000, 3.5000, 4.0000,\n",
       "        4.5000, 3.0000, 2.0000, 2.0000, 4.5000, 4.0000, 4.0000, 4.0000, 4.0000,\n",
       "        3.5000, 4.0000, 3.5000, 3.0000, 3.5000, 2.0000, 3.0000, 4.0000, 4.0000,\n",
       "        4.0000, 2.5000, 3.0000, 1.0000, 3.5000, 2.5000, 1.0000, 3.5000, 4.0000,\n",
       "        4.5000, 5.0000, 3.0000, 4.0000, 3.5000, 4.0000, 4.0000, 3.0000, 4.5000,\n",
       "        4.0000, 5.0000, 3.5000, 4.0000, 5.0000, 3.0000, 4.0000, 1.5000, 4.0000,\n",
       "        3.0000, 4.5000, 5.0000, 5.0000, 4.0000, 1.5000, 3.0000, 3.5000, 4.0000,\n",
       "        2.5000, 4.0000, 4.0000, 4.0000, 4.0000, 5.0000, 5.0000, 4.0000, 3.0000,\n",
       "        2.0000, 4.5000, 4.0000, 4.0000, 4.0000, 2.5000, 1.0000, 3.0000, 5.0000,\n",
       "        3.0000, 4.0000, 4.0000, 1.0000, 3.0000, 3.0000, 4.0000, 5.0000, 3.0000,\n",
       "        4.0000, 3.5000, 5.0000, 4.0000, 3.5000, 5.0000, 5.0000, 4.0000, 1.0000,\n",
       "        1.0000, 3.5000, 3.0000, 4.0000, 3.0000, 5.0000, 5.0000, 4.0000, 4.0000,\n",
       "        4.0000, 4.0000, 3.5000, 3.0000, 4.0000, 3.5000, 3.0000, 4.0000, 2.5000,\n",
       "        4.0000, 4.0000, 3.0000, 3.5000, 3.5000, 5.0000, 4.0000, 4.0000, 3.0000,\n",
       "        5.0000, 2.0000, 4.0000, 4.0000, 4.0000, 3.5000, 2.0000, 3.5000, 4.0000,\n",
       "        3.5000, 5.0000, 1.0000, 2.0000, 3.0000, 4.0000, 4.5000, 5.0000, 4.0000,\n",
       "        2.0000, 3.5000, 3.0000, 4.0000, 4.0000, 5.0000, 4.0000, 3.0000, 3.5000,\n",
       "        4.0000, 3.0000, 4.0000, 4.0000, 5.0000, 4.0000, 2.5000, 1.0000, 4.0000,\n",
       "        5.0000, 4.0000])"
      ]
     },
     "execution_count": 8,
     "metadata": {},
     "output_type": "execute_result"
    }
   ],
   "source": [
    "y_true"
   ]
  },
  {
   "cell_type": "code",
   "execution_count": 9,
   "id": "077f70bd-67f8-464c-b25f-ee3e4b81fb14",
   "metadata": {},
   "outputs": [
    {
     "data": {
      "text/plain": [
       "tensor([3.0000, 3.0000, 3.0000, 3.0000, 3.0000, 3.0000, 3.0000, 3.0000, 3.5000,\n",
       "        4.0000, 3.5000, 3.0000, 4.0000, 3.0000, 3.5000, 3.0000, 2.5000, 2.5000,\n",
       "        3.0000, 3.5000, 2.5000, 3.0000, 3.0000, 3.5000, 3.0000, 2.5000, 3.0000,\n",
       "        2.5000, 3.5000, 3.5000, 3.0000, 3.0000, 2.5000, 3.5000, 3.5000, 3.0000,\n",
       "        3.0000, 2.0000, 2.5000, 3.5000, 3.0000, 3.0000, 2.0000, 3.0000, 3.0000,\n",
       "        4.0000, 3.0000, 3.0000, 3.0000, 3.5000, 3.5000, 3.5000, 2.5000, 3.0000,\n",
       "        4.0000, 3.0000, 3.0000, 3.5000, 3.5000, 3.5000, 2.5000, 3.5000, 3.5000,\n",
       "        4.0000, 3.0000, 3.5000, 3.0000, 3.0000, 3.0000, 2.5000, 4.0000, 3.0000,\n",
       "        4.0000, 3.0000, 3.5000, 4.0000, 3.5000, 2.5000, 3.5000, 3.5000, 3.5000,\n",
       "        4.0000, 3.0000, 3.0000, 4.0000, 3.0000, 2.5000, 4.0000, 2.5000, 3.5000,\n",
       "        3.0000, 3.0000, 2.5000, 3.0000, 3.0000, 2.5000, 4.0000, 3.5000, 2.5000,\n",
       "        2.5000, 3.0000, 4.0000, 2.5000, 3.0000, 3.0000, 3.5000, 3.0000, 3.0000,\n",
       "        3.0000, 4.0000, 3.0000, 2.5000, 3.5000, 3.5000, 2.5000, 3.0000, 3.5000,\n",
       "        2.5000, 3.5000, 3.5000, 3.5000, 3.5000, 3.5000, 3.5000, 3.5000, 3.0000,\n",
       "        3.0000, 3.0000, 3.0000, 3.5000, 3.5000, 2.5000, 3.5000, 3.5000, 3.0000,\n",
       "        2.5000, 3.0000, 3.0000, 3.0000, 3.0000, 3.5000, 3.5000, 3.0000, 2.5000,\n",
       "        3.5000, 3.5000, 3.5000, 3.0000, 3.0000, 2.5000, 3.0000, 3.0000, 3.0000,\n",
       "        3.0000, 3.5000, 3.0000, 3.5000, 3.0000, 3.5000, 3.5000, 3.5000, 2.5000,\n",
       "        3.0000, 2.5000, 4.0000, 4.0000, 3.5000, 3.5000, 2.5000, 3.5000, 4.0000,\n",
       "        4.0000, 3.5000, 2.5000, 3.0000, 3.0000, 3.5000, 4.0000, 3.5000, 3.0000,\n",
       "        2.5000, 3.0000, 2.5000, 4.0000, 3.5000, 2.5000, 3.5000, 2.5000, 4.0000,\n",
       "        3.0000, 3.5000, 2.5000, 3.0000, 3.5000, 3.0000, 2.5000, 2.5000, 3.5000,\n",
       "        3.5000, 3.5000])"
      ]
     },
     "execution_count": 9,
     "metadata": {},
     "output_type": "execute_result"
    }
   ],
   "source": [
    "n_round(y_pred, 0.5)"
   ]
  }
 ],
 "metadata": {
  "kernelspec": {
   "display_name": "Python [conda env:root] *",
   "language": "python",
   "name": "conda-root-py"
  },
  "language_info": {
   "codemirror_mode": {
    "name": "ipython",
    "version": 3
   },
   "file_extension": ".py",
   "mimetype": "text/x-python",
   "name": "python",
   "nbconvert_exporter": "python",
   "pygments_lexer": "ipython3",
   "version": "3.9.7"
  }
 },
 "nbformat": 4,
 "nbformat_minor": 5
}
