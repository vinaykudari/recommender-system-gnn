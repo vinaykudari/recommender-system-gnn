{
 "cells": [
  {
   "cell_type": "markdown",
   "id": "c947a3c1-9007-4909-b914-29660b516cc5",
   "metadata": {},
   "source": [
    "Inductive Matrix Completion Based On Graph Neural Networks\n",
    "- Link: [Paper](https://openreview.net/pdf?id=ByxxgCEYDS)"
   ]
  },
  {
   "cell_type": "code",
   "execution_count": 1,
   "id": "d317a6e4-dbb9-42e3-8b00-d158641cca27",
   "metadata": {},
   "outputs": [],
   "source": [
    "from pathlib import Path\n",
    "import sys\n",
    "sys.path.append('../../')\n",
    "import math\n",
    "\n",
    "import pandas as pd\n",
    "import numpy as np\n",
    "import torch.nn.functional as F\n",
    "from torch.optim import Adam\n",
    "from torch_geometric.loader import DataLoader\n",
    "\n",
    "from dataset.movielens import MovieLensDataset\n",
    "from models.igmc import IGMC\n",
    "from helper.igmc_utils import *"
   ]
  },
  {
   "cell_type": "code",
   "execution_count": 2,
   "id": "e6a064db-b27e-449f-94a4-94a88236193c",
   "metadata": {},
   "outputs": [],
   "source": [
    "BASE_PATH = Path('../../raw_data/movie-lens/ml-latest-small')\n",
    "DEVICE = torch.device('cuda' if torch.cuda.is_available() else 'cpu')\n",
    "SEED = 42\n",
    "EPOCHS=2\n",
    "BATCH_SIZE=512\n",
    "LR=1e-3\n",
    "LR_DECAY_STEP = 20\n",
    "LR_DECAY_VALUE = 10"
   ]
  },
  {
   "cell_type": "code",
   "execution_count": 3,
   "id": "970a1ec8-e57f-4836-a61e-03ddb3ccf056",
   "metadata": {},
   "outputs": [],
   "source": [
    "df_movies = pd.read_csv(BASE_PATH/'movies.csv')\n",
    "df_links = pd.read_csv(BASE_PATH/'links.csv')\n",
    "df_tags = pd.read_csv(BASE_PATH/'tags.csv')\n",
    "df_ratings = pd.read_csv(BASE_PATH/'ratings.csv').drop(labels='timestamp', axis=1)"
   ]
  },
  {
   "cell_type": "code",
   "execution_count": 4,
   "id": "472a0e67-1f53-4516-a4a5-6cb1637411e5",
   "metadata": {},
   "outputs": [],
   "source": [
    "df_items, genres, genres_mp  = process_movies(df_movies)\n",
    "(rated_users, rated_users_dict, num_users), (rated_items, rated_items_dict, num_items), ratings = get_nodes(df_ratings)\n",
    "# print(df_i)\n",
    "# print(rated_items_dict)\n",
    "# break\n",
    "item_features = get_item_features(df_items, rated_items_dict, sparse=False) # dim\n",
    "# print(item_features)\n",
    "# break\n",
    "user_features = get_user_features(df_ratings, df_items, genres, genres_mp, rated_users_dict, n=5, sparse=False) #dim\n",
    "class_values = np.sort(np.unique(ratings))\n",
    "rating_dict = {r: i for i, r in enumerate(np.sort(np.unique(ratings)).tolist())}\n",
    "\n",
    "samples = (rated_users, rated_items, ratings)\n",
    "user_train_idx, item_train_idx, user_test_idx, item_test_idx, train_labels, test_labels = split(samples, rating_dict)\n",
    "\n",
    "data = train_labels + 1.\n",
    "data = data.astype(np.float32)\n",
    "adj_mat = sp.csr_matrix(\n",
    "    (data, [user_train_idx, item_train_idx]), \n",
    "    shape=[num_users, num_items], \n",
    "    dtype=np.float32,\n",
    ")\n",
    "\n",
    "train_dataset = MovieLensDataset(\n",
    "    root='../../raw_data/movie-lens/ml-latest-small',\n",
    "    adj_mat=adj_mat,\n",
    "    links=(user_train_idx, item_train_idx),\n",
    "    labels=train_labels,\n",
    "    h=1,\n",
    "    sample_ratio=1,\n",
    "    max_nodes_per_hop=200,\n",
    "    u_features=user_features,\n",
    "    v_features=item_features,\n",
    "    class_values=class_values,\n",
    ")\n",
    "\n",
    "test_dataset = MovieLensDataset(\n",
    "    root='../../raw_data/movie-lens/ml-latest-small',\n",
    "    adj_mat=adj_mat,\n",
    "    links=(user_test_idx, item_test_idx),\n",
    "    labels=test_labels,\n",
    "    h=1,\n",
    "    sample_ratio=1,\n",
    "    max_nodes_per_hop=200,\n",
    "    u_features=user_features,\n",
    "    v_features=item_features,\n",
    "    class_values=class_values,\n",
    ")\n",
    "\n",
    "train_loader = DataLoader(train_dataset, BATCH_SIZE, shuffle=True, num_workers=0)\n",
    "test_loader = DataLoader(test_dataset, BATCH_SIZE, shuffle=False, num_workers=0)"
   ]
  },
  {
   "cell_type": "code",
   "execution_count": 5,
   "id": "2d5ef09a",
   "metadata": {},
   "outputs": [
    {
     "name": "stdout",
     "output_type": "stream",
     "text": [
      "(0, DataBatch(x=[88423, 4], edge_index=[2, 634072], y=[512], edge_type=[634072], u_feature=[512, 20], v_feature=[512, 20], batch=[88423], ptr=[513]))\n"
     ]
    }
   ],
   "source": [
    "for batch in enumerate(train_loader):\n",
    "    print(batch)\n",
    "    break"
   ]
  },
  {
   "cell_type": "code",
   "execution_count": 6,
   "id": "9563f217",
   "metadata": {},
   "outputs": [
    {
     "data": {
      "text/plain": [
       "torch.Size([2, 634072])"
      ]
     },
     "execution_count": 6,
     "metadata": {},
     "output_type": "execute_result"
    }
   ],
   "source": [
    "batch[1].edge_index.shape"
   ]
  },
  {
   "cell_type": "code",
   "execution_count": 7,
   "id": "421fc5af",
   "metadata": {},
   "outputs": [
    {
     "data": {
      "text/plain": [
       "torch.Size([634072])"
      ]
     },
     "execution_count": 7,
     "metadata": {},
     "output_type": "execute_result"
    }
   ],
   "source": [
    "batch[1].edge_type.shape"
   ]
  },
  {
   "cell_type": "code",
   "execution_count": 8,
   "id": "ef68d327",
   "metadata": {},
   "outputs": [
    {
     "data": {
      "text/plain": [
       "torch.Size([88423, 4])"
      ]
     },
     "execution_count": 8,
     "metadata": {},
     "output_type": "execute_result"
    }
   ],
   "source": [
    "batch[1].x.shape"
   ]
  },
  {
   "cell_type": "code",
   "execution_count": 9,
   "id": "b2e732f1-fcff-42a7-88ba-08972faa8302",
   "metadata": {},
   "outputs": [],
   "source": [
    "num_relations = len(class_values)\n",
    "n_features = user_features.shape[1] + item_features.shape[1]\n",
    "model = IGMC(\n",
    "    train_dataset, \n",
    "    num_relations=num_relations, \n",
    "    num_bases=4,   \n",
    "    side_features=True, \n",
    "    n_side_features=n_features, \n",
    ")"
   ]
  },
  {
   "cell_type": "code",
   "execution_count": null,
   "id": "cd31fd0d",
   "metadata": {},
   "outputs": [],
   "source": []
  },
  {
   "cell_type": "code",
   "execution_count": 10,
   "id": "2dfe4850-ef96-4f7f-a600-e984c5c0e711",
   "metadata": {
    "tags": []
   },
   "outputs": [
    {
     "name": "stdout",
     "output_type": "stream",
     "text": [
      "tensor([[1., 0., 0., 0.],\n",
      "        [0., 0., 1., 0.],\n",
      "        [0., 0., 1., 0.],\n",
      "        ...,\n",
      "        [0., 0., 0., 1.],\n",
      "        [0., 0., 0., 1.],\n",
      "        [0., 0., 0., 1.]])\n",
      "torch.Size([92439, 4])\n"
     ]
    },
    {
     "ename": "RuntimeError",
     "evalue": "mat1 and mat2 shapes cannot be multiplied (369756x3233 and 4x32)",
     "output_type": "error",
     "traceback": [
      "\u001b[0;31m---------------------------------------------------------------------------\u001b[0m",
      "\u001b[0;31mRuntimeError\u001b[0m                              Traceback (most recent call last)",
      "Input \u001b[0;32mIn [10]\u001b[0m, in \u001b[0;36m<cell line: 5>\u001b[0;34m()\u001b[0m\n\u001b[1;32m      9\u001b[0m optimizer\u001b[38;5;241m.\u001b[39mzero_grad()\n\u001b[1;32m     10\u001b[0m train_batch \u001b[38;5;241m=\u001b[39m train_batch\u001b[38;5;241m.\u001b[39mto(DEVICE)\n\u001b[0;32m---> 11\u001b[0m y_pred \u001b[38;5;241m=\u001b[39m \u001b[43mmodel\u001b[49m\u001b[43m(\u001b[49m\u001b[43mtrain_batch\u001b[49m\u001b[43m)\u001b[49m\n\u001b[1;32m     12\u001b[0m y_true \u001b[38;5;241m=\u001b[39m train_batch\u001b[38;5;241m.\u001b[39my\n\u001b[1;32m     13\u001b[0m train_loss \u001b[38;5;241m=\u001b[39m F\u001b[38;5;241m.\u001b[39mmse_loss(y_pred, y_true)\n",
      "File \u001b[0;32m~/.local/lib/python3.8/site-packages/torch/nn/modules/module.py:1110\u001b[0m, in \u001b[0;36mModule._call_impl\u001b[0;34m(self, *input, **kwargs)\u001b[0m\n\u001b[1;32m   1106\u001b[0m \u001b[38;5;66;03m# If we don't have any hooks, we want to skip the rest of the logic in\u001b[39;00m\n\u001b[1;32m   1107\u001b[0m \u001b[38;5;66;03m# this function, and just call forward.\u001b[39;00m\n\u001b[1;32m   1108\u001b[0m \u001b[38;5;28;01mif\u001b[39;00m \u001b[38;5;129;01mnot\u001b[39;00m (\u001b[38;5;28mself\u001b[39m\u001b[38;5;241m.\u001b[39m_backward_hooks \u001b[38;5;129;01mor\u001b[39;00m \u001b[38;5;28mself\u001b[39m\u001b[38;5;241m.\u001b[39m_forward_hooks \u001b[38;5;129;01mor\u001b[39;00m \u001b[38;5;28mself\u001b[39m\u001b[38;5;241m.\u001b[39m_forward_pre_hooks \u001b[38;5;129;01mor\u001b[39;00m _global_backward_hooks\n\u001b[1;32m   1109\u001b[0m         \u001b[38;5;129;01mor\u001b[39;00m _global_forward_hooks \u001b[38;5;129;01mor\u001b[39;00m _global_forward_pre_hooks):\n\u001b[0;32m-> 1110\u001b[0m     \u001b[38;5;28;01mreturn\u001b[39;00m \u001b[43mforward_call\u001b[49m\u001b[43m(\u001b[49m\u001b[38;5;241;43m*\u001b[39;49m\u001b[38;5;28;43minput\u001b[39;49m\u001b[43m,\u001b[49m\u001b[43m \u001b[49m\u001b[38;5;241;43m*\u001b[39;49m\u001b[38;5;241;43m*\u001b[39;49m\u001b[43mkwargs\u001b[49m\u001b[43m)\u001b[49m\n\u001b[1;32m   1111\u001b[0m \u001b[38;5;66;03m# Do not call functions when jit is used\u001b[39;00m\n\u001b[1;32m   1112\u001b[0m full_backward_hooks, non_full_backward_hooks \u001b[38;5;241m=\u001b[39m [], []\n",
      "File \u001b[0;32m/media/ujwal/New Volume/study/UB/DL/project/recommender-system-gnn/notebooks/movie-lens/../../models/igmc.py:72\u001b[0m, in \u001b[0;36mIGMC.forward\u001b[0;34m(self, data)\u001b[0m\n\u001b[1;32m     70\u001b[0m x \u001b[38;5;241m=\u001b[39m \u001b[38;5;28mself\u001b[39m\u001b[38;5;241m.\u001b[39memb(x\u001b[38;5;241m.\u001b[39mlong())\n\u001b[1;32m     71\u001b[0m \u001b[38;5;28;01mfor\u001b[39;00m conv \u001b[38;5;129;01min\u001b[39;00m \u001b[38;5;28mself\u001b[39m\u001b[38;5;241m.\u001b[39mconvs:\n\u001b[0;32m---> 72\u001b[0m     x \u001b[38;5;241m=\u001b[39m torch\u001b[38;5;241m.\u001b[39mtanh(\u001b[43mconv\u001b[49m\u001b[43m(\u001b[49m\u001b[43mx\u001b[49m\u001b[43m,\u001b[49m\u001b[43m \u001b[49m\u001b[43medge_index\u001b[49m\u001b[43m,\u001b[49m\u001b[43m \u001b[49m\u001b[43medge_type\u001b[49m\u001b[43m)\u001b[49m)\n\u001b[1;32m     73\u001b[0m     concat_states\u001b[38;5;241m.\u001b[39mappend(x)\n\u001b[1;32m     74\u001b[0m concat_states \u001b[38;5;241m=\u001b[39m torch\u001b[38;5;241m.\u001b[39mcat(concat_states, \u001b[38;5;241m1\u001b[39m)\n",
      "File \u001b[0;32m~/.local/lib/python3.8/site-packages/torch/nn/modules/module.py:1110\u001b[0m, in \u001b[0;36mModule._call_impl\u001b[0;34m(self, *input, **kwargs)\u001b[0m\n\u001b[1;32m   1106\u001b[0m \u001b[38;5;66;03m# If we don't have any hooks, we want to skip the rest of the logic in\u001b[39;00m\n\u001b[1;32m   1107\u001b[0m \u001b[38;5;66;03m# this function, and just call forward.\u001b[39;00m\n\u001b[1;32m   1108\u001b[0m \u001b[38;5;28;01mif\u001b[39;00m \u001b[38;5;129;01mnot\u001b[39;00m (\u001b[38;5;28mself\u001b[39m\u001b[38;5;241m.\u001b[39m_backward_hooks \u001b[38;5;129;01mor\u001b[39;00m \u001b[38;5;28mself\u001b[39m\u001b[38;5;241m.\u001b[39m_forward_hooks \u001b[38;5;129;01mor\u001b[39;00m \u001b[38;5;28mself\u001b[39m\u001b[38;5;241m.\u001b[39m_forward_pre_hooks \u001b[38;5;129;01mor\u001b[39;00m _global_backward_hooks\n\u001b[1;32m   1109\u001b[0m         \u001b[38;5;129;01mor\u001b[39;00m _global_forward_hooks \u001b[38;5;129;01mor\u001b[39;00m _global_forward_pre_hooks):\n\u001b[0;32m-> 1110\u001b[0m     \u001b[38;5;28;01mreturn\u001b[39;00m \u001b[43mforward_call\u001b[49m\u001b[43m(\u001b[49m\u001b[38;5;241;43m*\u001b[39;49m\u001b[38;5;28;43minput\u001b[39;49m\u001b[43m,\u001b[49m\u001b[43m \u001b[49m\u001b[38;5;241;43m*\u001b[39;49m\u001b[38;5;241;43m*\u001b[39;49m\u001b[43mkwargs\u001b[49m\u001b[43m)\u001b[49m\n\u001b[1;32m   1111\u001b[0m \u001b[38;5;66;03m# Do not call functions when jit is used\u001b[39;00m\n\u001b[1;32m   1112\u001b[0m full_backward_hooks, non_full_backward_hooks \u001b[38;5;241m=\u001b[39m [], []\n",
      "File \u001b[0;32m~/.local/lib/python3.8/site-packages/torch_geometric/nn/conv/rgcn_conv.py:219\u001b[0m, in \u001b[0;36mRGCNConv.forward\u001b[0;34m(self, x, edge_index, edge_type)\u001b[0m\n\u001b[1;32m    217\u001b[0m         \u001b[38;5;28;01melse\u001b[39;00m:\n\u001b[1;32m    218\u001b[0m             h \u001b[38;5;241m=\u001b[39m \u001b[38;5;28mself\u001b[39m\u001b[38;5;241m.\u001b[39mpropagate(tmp, x\u001b[38;5;241m=\u001b[39mx_l, size\u001b[38;5;241m=\u001b[39msize)\n\u001b[0;32m--> 219\u001b[0m             out \u001b[38;5;241m=\u001b[39m out \u001b[38;5;241m+\u001b[39m (\u001b[43mh\u001b[49m\u001b[43m \u001b[49m\u001b[38;5;241;43m@\u001b[39;49m\u001b[43m \u001b[49m\u001b[43mweight\u001b[49m\u001b[43m[\u001b[49m\u001b[43mi\u001b[49m\u001b[43m]\u001b[49m)\n\u001b[1;32m    221\u001b[0m root \u001b[38;5;241m=\u001b[39m \u001b[38;5;28mself\u001b[39m\u001b[38;5;241m.\u001b[39mroot\n\u001b[1;32m    222\u001b[0m \u001b[38;5;28;01mif\u001b[39;00m root \u001b[38;5;129;01mis\u001b[39;00m \u001b[38;5;129;01mnot\u001b[39;00m \u001b[38;5;28;01mNone\u001b[39;00m:\n",
      "\u001b[0;31mRuntimeError\u001b[0m: mat1 and mat2 shapes cannot be multiplied (369756x3233 and 4x32)"
     ]
    }
   ],
   "source": [
    "model.to(DEVICE)\n",
    "model.reset_parameters()\n",
    "optimizer = Adam(model.parameters(), lr=LR, weight_decay=0)\n",
    "\n",
    "for epoch in range(1, EPOCHS+1):\n",
    "    model.train()\n",
    "    train_loss_all = 0\n",
    "    for idx, train_batch in enumerate(train_loader):\n",
    "        optimizer.zero_grad()\n",
    "        train_batch = train_batch.to(DEVICE)\n",
    "        y_pred = model(train_batch)\n",
    "        y_true = train_batch.y\n",
    "        train_loss = F.mse_loss(y_pred, y_true)\n",
    "        if idx % 20 == 0:\n",
    "            print(round(train_loss.item(), 2), end=' ')\n",
    "        train_loss.backward()\n",
    "        train_loss_all += BATCH_SIZE * float(train_loss)\n",
    "        optimizer.step()\n",
    "        torch.cuda.empty_cache()\n",
    "        \n",
    "    train_loss_all = train_loss_all / len(train_loader.dataset)\n",
    "    \n",
    "    print('epoch', epoch,'; train loss', train_loss_all)\n",
    "\n",
    "    if epoch % LR_DECAY_STEP == 0:\n",
    "        for param_group in optimizer.param_groups:\n",
    "            param_group['lr'] = param_group['lr'] / LR_DECAY_VALUE"
   ]
  },
  {
   "cell_type": "code",
   "execution_count": null,
   "id": "10dc2113-1171-4c4d-907d-0867f7024445",
   "metadata": {},
   "outputs": [],
   "source": [
    "model.eval()\n",
    "test_loss = 0\n",
    "for test_batch in test_loader:\n",
    "    test_batch = test_batch.to(DEVICE)\n",
    "    with torch.no_grad():\n",
    "        y_pred = model(test_batch)\n",
    "    y_true = test_batch.y\n",
    "    test_loss += F.mse_loss(y_pred, y_true, reduction='sum')\n",
    "mse_loss = float(test_loss) / len(test_loader.dataset)\n",
    "\n",
    "print('test MSE loss', mse_loss)\n",
    "print('test RMSE loss', math.sqrt(mse_loss))"
   ]
  },
  {
   "cell_type": "code",
   "execution_count": null,
   "id": "447e96a9-8392-47cd-bda9-eee9347d05e6",
   "metadata": {},
   "outputs": [],
   "source": [
    "y_true"
   ]
  },
  {
   "cell_type": "code",
   "execution_count": null,
   "id": "077f70bd-67f8-464c-b25f-ee3e4b81fb14",
   "metadata": {},
   "outputs": [],
   "source": [
    "n_round(y_pred, 0.5)"
   ]
  },
  {
   "cell_type": "code",
   "execution_count": null,
   "id": "56406e2f",
   "metadata": {},
   "outputs": [],
   "source": []
  }
 ],
 "metadata": {
  "kernelspec": {
   "display_name": "Python 3 (ipykernel)",
   "language": "python",
   "name": "python3"
  },
  "language_info": {
   "codemirror_mode": {
    "name": "ipython",
    "version": 3
   },
   "file_extension": ".py",
   "mimetype": "text/x-python",
   "name": "python",
   "nbconvert_exporter": "python",
   "pygments_lexer": "ipython3",
   "version": "3.8.10"
  }
 },
 "nbformat": 4,
 "nbformat_minor": 5
}
