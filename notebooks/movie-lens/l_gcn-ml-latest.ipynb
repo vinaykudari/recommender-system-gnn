{
 "cells": [
  {
   "cell_type": "markdown",
   "id": "57592146-6c99-4ef5-a8f1-e930876875b4",
   "metadata": {},
   "source": [
    "LightGCN: Simplifying and Powering Graph Convolution Network for Recommendation\n",
    "- Link: [Paper](https://arxiv.org/pdf/2002.02126.pdf)"
   ]
  },
  {
   "cell_type": "code",
   "execution_count": 1,
   "id": "6b16090b-a0b1-4432-a37c-0643beefc8d8",
   "metadata": {},
   "outputs": [],
   "source": [
    "import sys\n",
    "sys.path.append('../../')\n",
    "import random\n",
    "import time\n",
    "from pathlib import Path\n",
    "\n",
    "import pandas as pd\n",
    "import numpy as np\n",
    "from sklearn.model_selection import train_test_split\n",
    "\n",
    "import torch\n",
    "from torch import optim\n",
    "from torch_sparse import SparseTensor\n",
    "\n",
    "from helper.lite_gcn_utils import *\n",
    "from models.lite_gcn import LightGCN"
   ]
  },
  {
   "cell_type": "code",
   "execution_count": 2,
   "id": "ef484312-9749-4023-8b84-906957eae127",
   "metadata": {},
   "outputs": [],
   "source": [
    "BASE_PATH = Path('../../raw_data/movie-lens/ml-latest-small')\n",
    "RATING_THRESHOLD = 4."
   ]
  },
  {
   "cell_type": "code",
   "execution_count": 3,
   "id": "f7946230-b662-4582-8c6b-06889ede57cb",
   "metadata": {},
   "outputs": [],
   "source": [
    "df_movies = pd.read_csv(BASE_PATH/'movies.csv', index_col='movieId')\n",
    "df_links = pd.read_csv(BASE_PATH/'links.csv')\n",
    "df_tags = pd.read_csv(BASE_PATH/'tags.csv')\n",
    "df_ratings = pd.read_csv(BASE_PATH/'ratings.csv', index_col='userId')"
   ]
  },
  {
   "cell_type": "code",
   "execution_count": 4,
   "id": "b82f9aa4-32a9-4515-8ec6-3c213b813075",
   "metadata": {},
   "outputs": [],
   "source": [
    "user_map, new_user_map = map_to_index(df_ratings)\n",
    "item_map, new_item_map = map_to_index(df_movies)\n",
    "edge_index = get_edges(\n",
    "    df=df_ratings,\n",
    "    edge_col='rating',\n",
    "    item_col='movieId',\n",
    "    user_map=user_map,\n",
    "    item_map=item_map,\n",
    "    thresh=RATING_THRESHOLD,\n",
    ")\n",
    "\n",
    "num_users, num_movies = len(user_map), len(item_map)\n",
    "num_interactions = edge_index.shape[1]\n",
    "\n",
    "all_indices = [i for i in range(num_interactions)]\n",
    "train_indices, test_indices = train_test_split(\n",
    "    all_indices, test_size=0.2, random_state=1,\n",
    ")\n",
    "val_indices, test_indices = train_test_split(\n",
    "    test_indices, test_size=0.5, random_state=1,\n",
    ")\n",
    "\n",
    "train_edge_index = edge_index[:, train_indices]\n",
    "val_edge_index = edge_index[:, val_indices]\n",
    "test_edge_index = edge_index[:, test_indices]\n",
    "\n",
    "train_sparse_edge_index = SparseTensor(\n",
    "    row=train_edge_index[0], col=train_edge_index[1], \n",
    "    sparse_sizes=(\n",
    "        num_users + num_movies, num_users + num_movies,\n",
    "    ),\n",
    ")\n",
    "val_sparse_edge_index = SparseTensor(\n",
    "    row=val_edge_index[0], col=val_edge_index[1],\n",
    "    sparse_sizes=(\n",
    "        num_users + num_movies, num_users + num_movies,\n",
    "    ),\n",
    ")\n",
    "test_sparse_edge_index = SparseTensor(\n",
    "    row=test_edge_index[0], col=test_edge_index[1],\n",
    "    sparse_sizes=(\n",
    "        num_users + num_movies, num_users + num_movies,\n",
    "    ),\n",
    ")"
   ]
  },
  {
   "cell_type": "code",
   "execution_count": 5,
   "id": "46445260-8818-4809-9796-5355f693aae1",
   "metadata": {},
   "outputs": [
    {
     "name": "stdout",
     "output_type": "stream",
     "text": [
      "Using device cpu\n"
     ]
    }
   ],
   "source": [
    "EMBEDDING_DIM = 64\n",
    "ITERATIONS = 10000\n",
    "BATCH_SIZE = 1024\n",
    "LR = 1e-3\n",
    "ITERS_PER_EVAL = 200\n",
    "ITERS_PER_LR_DECAY = 200\n",
    "K = 20\n",
    "LAMBDA = 1e-6\n",
    "\n",
    "model = LightGCN(\n",
    "    num_users, \n",
    "    num_movies,\n",
    "    emb_dim=EMBEDDING_DIM,\n",
    "    num_layers=5,\n",
    ")\n",
    "device = torch.device('cuda' if torch.cuda.is_available() else 'cpu')\n",
    "print(f'Using device {device}')\n",
    "\n",
    "model = model.to(device)\n",
    "model.train()\n",
    "\n",
    "optimizer = optim.Adam(model.parameters(), lr=LR)\n",
    "scheduler = optim.lr_scheduler.ExponentialLR(optimizer, gamma=0.95)\n",
    "\n",
    "edge_index = edge_index.to(device)\n",
    "train_edge_index = train_edge_index.to(device)\n",
    "train_sparse_edge_index = train_sparse_edge_index.to(device)\n",
    "\n",
    "val_edge_index = val_edge_index.to(device)\n",
    "val_sparse_edge_index = val_sparse_edge_index.to(device)"
   ]
  },
  {
   "cell_type": "code",
   "execution_count": 6,
   "id": "1e3cdced-6846-42fc-a666-ceee89dc2415",
   "metadata": {
    "jupyter": {
     "outputs_hidden": true
    },
    "tags": []
   },
   "outputs": [
    {
     "name": "stdout",
     "output_type": "stream",
     "text": [
      "[0/10000] train_loss: -0.6952, val_loss: -0.70248, val_recall@20: 0.00089, val_precision@20: 0.00081\n",
      "[200/10000] train_loss: -0.70158, val_loss: -0.7133, val_recall@20: 0.01441, val_precision@20: 0.00443\n",
      "[400/10000] train_loss: -0.77349, val_loss: -0.80246, val_recall@20: 0.07402, val_precision@20: 0.02315\n",
      "[600/10000] train_loss: -1.05162, val_loss: -1.13566, val_recall@20: 0.0861, val_precision@20: 0.02712\n",
      "[800/10000] train_loss: -1.64023, val_loss: -1.80827, val_recall@20: 0.08965, val_precision@20: 0.02758\n",
      "[1000/10000] train_loss: -2.47841, val_loss: -2.76681, val_recall@20: 0.08775, val_precision@20: 0.02767\n",
      "[1200/10000] train_loss: -3.67136, val_loss: -3.89343, val_recall@20: 0.08517, val_precision@20: 0.02703\n",
      "[1400/10000] train_loss: -4.79798, val_loss: -5.1142, val_recall@20: 0.08471, val_precision@20: 0.02694\n",
      "[1600/10000] train_loss: -5.92633, val_loss: -6.36168, val_recall@20: 0.08408, val_precision@20: 0.02703\n",
      "[1800/10000] train_loss: -6.74987, val_loss: -7.63304, val_recall@20: 0.08357, val_precision@20: 0.02685\n",
      "[2000/10000] train_loss: -8.40468, val_loss: -8.91786, val_recall@20: 0.08336, val_precision@20: 0.02676\n",
      "[2200/10000] train_loss: -9.4965, val_loss: -10.10771, val_recall@20: 0.08319, val_precision@20: 0.02676\n",
      "[2400/10000] train_loss: -10.54731, val_loss: -11.50269, val_recall@20: 0.08404, val_precision@20: 0.02694\n",
      "[2600/10000] train_loss: -11.42124, val_loss: -12.76736, val_recall@20: 0.08273, val_precision@20: 0.02676\n",
      "[2800/10000] train_loss: -12.21147, val_loss: -13.93206, val_recall@20: 0.08257, val_precision@20: 0.02667\n",
      "[3000/10000] train_loss: -14.33087, val_loss: -14.93969, val_recall@20: 0.08279, val_precision@20: 0.02676\n",
      "[3200/10000] train_loss: -14.41953, val_loss: -16.32095, val_recall@20: 0.08328, val_precision@20: 0.02703\n",
      "[3400/10000] train_loss: -15.84086, val_loss: -17.26316, val_recall@20: 0.08247, val_precision@20: 0.02658\n",
      "[3600/10000] train_loss: -16.99117, val_loss: -18.42915, val_recall@20: 0.08187, val_precision@20: 0.02649\n",
      "[3800/10000] train_loss: -18.22634, val_loss: -19.4813, val_recall@20: 0.08235, val_precision@20: 0.02649\n",
      "[4000/10000] train_loss: -18.99803, val_loss: -20.23103, val_recall@20: 0.08225, val_precision@20: 0.02649\n",
      "[4200/10000] train_loss: -20.24007, val_loss: -21.48467, val_recall@20: 0.08209, val_precision@20: 0.02658\n",
      "[4400/10000] train_loss: -20.37464, val_loss: -22.32091, val_recall@20: 0.08173, val_precision@20: 0.02649\n",
      "[4600/10000] train_loss: -21.51204, val_loss: -23.27427, val_recall@20: 0.08235, val_precision@20: 0.02667\n",
      "[4800/10000] train_loss: -22.22894, val_loss: -24.06761, val_recall@20: 0.08153, val_precision@20: 0.02649\n",
      "[5000/10000] train_loss: -23.4884, val_loss: -24.97281, val_recall@20: 0.08153, val_precision@20: 0.02649\n",
      "[5200/10000] train_loss: -24.26161, val_loss: -25.77729, val_recall@20: 0.08154, val_precision@20: 0.02658\n",
      "[5400/10000] train_loss: -23.58719, val_loss: -26.45444, val_recall@20: 0.08149, val_precision@20: 0.02649\n",
      "[5600/10000] train_loss: -24.77341, val_loss: -27.21269, val_recall@20: 0.08118, val_precision@20: 0.02649\n",
      "[5800/10000] train_loss: -25.39069, val_loss: -28.00418, val_recall@20: 0.08179, val_precision@20: 0.02658\n",
      "[6000/10000] train_loss: -26.1426, val_loss: -28.5895, val_recall@20: 0.08135, val_precision@20: 0.02658\n",
      "[6200/10000] train_loss: -27.10978, val_loss: -29.205, val_recall@20: 0.08135, val_precision@20: 0.02658\n",
      "[6400/10000] train_loss: -27.99255, val_loss: -29.73381, val_recall@20: 0.08135, val_precision@20: 0.02658\n",
      "[6600/10000] train_loss: -28.33347, val_loss: -30.29738, val_recall@20: 0.08074, val_precision@20: 0.02649\n",
      "[6800/10000] train_loss: -27.96401, val_loss: -30.96155, val_recall@20: 0.08111, val_precision@20: 0.02658\n",
      "[7000/10000] train_loss: -29.43016, val_loss: -31.32834, val_recall@20: 0.08074, val_precision@20: 0.02649\n",
      "[7200/10000] train_loss: -29.45843, val_loss: -31.86786, val_recall@20: 0.08074, val_precision@20: 0.02649\n",
      "[7400/10000] train_loss: -29.30071, val_loss: -32.48262, val_recall@20: 0.08074, val_precision@20: 0.02649\n",
      "[7600/10000] train_loss: -31.6945, val_loss: -33.00761, val_recall@20: 0.08074, val_precision@20: 0.02649\n",
      "[7800/10000] train_loss: -30.30141, val_loss: -33.29348, val_recall@20: 0.08074, val_precision@20: 0.02649\n",
      "[8000/10000] train_loss: -30.82002, val_loss: -33.4961, val_recall@20: 0.08111, val_precision@20: 0.02658\n",
      "[8200/10000] train_loss: -32.21865, val_loss: -33.98796, val_recall@20: 0.08111, val_precision@20: 0.02658\n",
      "[8400/10000] train_loss: -30.95332, val_loss: -34.67738, val_recall@20: 0.08111, val_precision@20: 0.02658\n",
      "[8600/10000] train_loss: -32.90425, val_loss: -34.9647, val_recall@20: 0.08111, val_precision@20: 0.02658\n",
      "[8800/10000] train_loss: -31.54132, val_loss: -35.0118, val_recall@20: 0.08111, val_precision@20: 0.02658\n",
      "[9000/10000] train_loss: -31.80375, val_loss: -35.40719, val_recall@20: 0.08111, val_precision@20: 0.02658\n",
      "[9200/10000] train_loss: -31.01073, val_loss: -35.62217, val_recall@20: 0.08111, val_precision@20: 0.02658\n",
      "[9400/10000] train_loss: -32.873, val_loss: -36.22862, val_recall@20: 0.08074, val_precision@20: 0.02649\n",
      "[9600/10000] train_loss: -32.79515, val_loss: -36.46465, val_recall@20: 0.08111, val_precision@20: 0.02658\n",
      "[9800/10000] train_loss: -33.46135, val_loss: -36.90823, val_recall@20: 0.08111, val_precision@20: 0.02658\n"
     ]
    }
   ],
   "source": [
    "train_losses = []\n",
    "val_losses = []\n",
    "\n",
    "for i in range(ITERATIONS):\n",
    "    users_emb_final, users_emb_0, items_emb_final, items_emb_0 = model.forward(\n",
    "        train_sparse_edge_index,\n",
    "    )\n",
    "    user_indices, pos_item_indices, neg_item_indices = sample(\n",
    "        BATCH_SIZE, train_edge_index,\n",
    "    )\n",
    "    user_indices, pos_item_indices, neg_item_indices = user_indices.to(device), pos_item_indices.to(device), neg_item_indices.to(device)\n",
    "    users_emb_final, users_emb_0 = users_emb_final[user_indices], users_emb_0[user_indices]\n",
    "    pos_items_emb_final, pos_items_emb_0 = items_emb_final[pos_item_indices], items_emb_0[pos_item_indices]\n",
    "    neg_items_emb_final, neg_items_emb_0 = items_emb_final[neg_item_indices], items_emb_0[neg_item_indices]\n",
    "\n",
    "    # loss computation\n",
    "    train_loss = bpr_loss(\n",
    "        users_emb_final, users_emb_0,\n",
    "        pos_items_emb_final, pos_items_emb_0,\n",
    "        neg_items_emb_final, neg_items_emb_0,\n",
    "        LAMBDA,\n",
    "    )\n",
    "\n",
    "    optimizer.zero_grad()\n",
    "    train_loss.backward()\n",
    "    optimizer.step()\n",
    "\n",
    "    if i % ITERS_PER_EVAL == 0:\n",
    "        model.eval()\n",
    "        val_loss, recall, precision = evaluation(\n",
    "            model, val_edge_index, \n",
    "            val_sparse_edge_index, [train_edge_index],\n",
    "            K, LAMBDA,\n",
    "        )\n",
    "        print(f\"[{i}/{ITERATIONS}] train_loss: {round(train_loss.item(), 5)}, val_loss: {round(val_loss, 5)}, val_recall@{K}: {round(recall, 5)}, val_precision@{K}: {round(precision, 5)}\")\n",
    "        train_losses.append(train_loss.item())\n",
    "        val_losses.append(val_loss)\n",
    "        model.train()\n",
    "\n",
    "    if i % ITERS_PER_LR_DECAY == 0 and i != 0:\n",
    "        scheduler.step()"
   ]
  },
  {
   "cell_type": "code",
   "execution_count": 7,
   "id": "03a95b70",
   "metadata": {},
   "outputs": [
    {
     "data": {
      "text/plain": [
       "[<matplotlib.lines.Line2D at 0x7f65631a8460>]"
      ]
     },
     "execution_count": 7,
     "metadata": {},
     "output_type": "execute_result"
    },
    {
     "data": {
      "image/png": "[encoded data removed]",
      "text/plain": [
       "<Figure size 432x288 with 1 Axes>"
      ]
     },
     "metadata": {
      "needs_background": "light"
     },
     "output_type": "display_data"
    }
   ],
   "source": [
    "import matplotlib.pyplot as plt\n",
    "# print(train_loss)\n",
    "plt.title(\"Training Loss\")\n",
    "plt.xlabel(\"Epochs\")\n",
    "plt.ylabel(\"Loss\")\n",
    "plt.plot(np.arange(0,ITERATIONS,ITERS_PER_EVAL),train_losses)"
   ]
  },
  {
   "cell_type": "code",
   "execution_count": 8,
   "id": "a01509d2",
   "metadata": {},
   "outputs": [
    {
     "data": {
      "text/plain": [
       "[<matplotlib.lines.Line2D at 0x7f65610a0c40>]"
      ]
     },
     "execution_count": 8,
     "metadata": {},
     "output_type": "execute_result"
    },
    {
     "data": {
      "image/png": "[encoded data removed]",
      "text/plain": [
       "<Figure size 432x288 with 1 Axes>"
      ]
     },
     "metadata": {
      "needs_background": "light"
     },
     "output_type": "display_data"
    }
   ],
   "source": [
    "import matplotlib.pyplot as plt\n",
    "# print(train_loss)\n",
    "plt.title(\"Validation Loss\")\n",
    "plt.xlabel(\"Epochs\")\n",
    "plt.ylabel(\"Loss\")\n",
    "plt.plot(np.arange(0,ITERATIONS,ITERS_PER_EVAL),val_losses)"
   ]
  },
  {
   "cell_type": "code",
   "execution_count": 9,
   "id": "0363d28c-c605-40b4-bb93-4e63b6e3fd84",
   "metadata": {},
   "outputs": [
    {
     "name": "stdout",
     "output_type": "stream",
     "text": [
      "[test_loss: -34.46054, test_recall@20: 0.0736, test_precision@20: 0.02708\n"
     ]
    }
   ],
   "source": [
    "# evaluate on test set\n",
    "model.eval()\n",
    "test_edge_index = test_edge_index.to(device)\n",
    "test_sparse_edge_index = test_sparse_edge_index.to(device)\n",
    "\n",
    "test_loss, test_recall, test_precision = evaluation(\n",
    "            model, test_edge_index, test_sparse_edge_index, [train_edge_index, val_edge_index], K, LAMBDA)\n",
    "\n",
    "print(f\"[test_loss: {round(test_loss, 5)}, test_recall@{K}: {round(test_recall, 5)}, test_precision@{K}: {round(test_precision, 5)}\")"
   ]
  },
  {
   "cell_type": "code",
   "execution_count": 10,
   "id": "b50acb3e-e54e-4df5-88b2-dadcf2dab7d1",
   "metadata": {},
   "outputs": [],
   "source": [
    "model.eval()\n",
    "movieid_title = pd.Series(df_movies.title.values).to_dict()\n",
    "movieid_genres = pd.Series(df_movies.genres.values).to_dict()\n",
    "\n",
    "user_pos_items = get_user_positive_items(edge_index)\n",
    "\n",
    "def get_recommendations(df_ratings, df_movies, user_id, n, new_item_map):\n",
    "    new_user_id = user_map[user_id]\n",
    "    user_embed = model.user_emb.weight[new_user_id]\n",
    "    scores = model.item_emb.weight @ user_embed\n",
    "    \n",
    "    df_ratings = df_ratings[(df_ratings.movieId == user_id) & (df_ratings.rating >= RATING_THRESHOLD)]\n",
    "    top_rated = pd.merge(\n",
    "        df_movies, df_ratings, \n",
    "        left_on=df_movies.index, right_on=df_ratings.index,\n",
    "    ).sort_values(by='rating', ascending=False)[['title', 'genres', 'rating']]\n",
    "    \n",
    "    values, indices = torch.topk(scores, k=len(user_pos_items[new_user_id]))\n",
    "    recommended = []\n",
    "    m = min(n, indices.shape[0])\n",
    "    \n",
    "    for i in range(m):\n",
    "        if indices[i] not in user_pos_items[new_user_id]:\n",
    "            recommended.append(new_item_map[indices[i].cpu().item()])\n",
    "        \n",
    "    rec_movies = df_movies.iloc[recommended, :][['title', 'genres']]\n",
    "    \n",
    "    return top_rated.sample(n), rec_movies.head(n), rec_movies[::-1].head(n)\n",
    "   "
   ]
  },
  {
   "cell_type": "code",
   "execution_count": 11,
   "id": "3297e458-5366-48d7-9dcd-56b26e758e6c",
   "metadata": {},
   "outputs": [
    {
     "data": {
      "text/html": [
       "<div>\n",
       "<style scoped>\n",
       "    .dataframe tbody tr th:only-of-type {\n",
       "        vertical-align: middle;\n",
       "    }\n",
       "\n",
       "    .dataframe tbody tr th {\n",
       "        vertical-align: top;\n",
       "    }\n",
       "\n",
       "    .dataframe thead th {\n",
       "        text-align: right;\n",
       "    }\n",
       "</style>\n",
       "<table border=\"1\" class=\"dataframe\">\n",
       "  <thead>\n",
       "    <tr style=\"text-align: right;\">\n",
       "      <th></th>\n",
       "      <th>title</th>\n",
       "      <th>genres</th>\n",
       "      <th>rating</th>\n",
       "    </tr>\n",
       "  </thead>\n",
       "  <tbody>\n",
       "    <tr>\n",
       "      <th>21</th>\n",
       "      <td>Crow, The (1994)</td>\n",
       "      <td>Action|Crime|Fantasy|Thriller</td>\n",
       "      <td>4.0</td>\n",
       "    </tr>\n",
       "    <tr>\n",
       "      <th>34</th>\n",
       "      <td>Shadowlands (1993)</td>\n",
       "      <td>Drama|Romance</td>\n",
       "      <td>4.5</td>\n",
       "    </tr>\n",
       "    <tr>\n",
       "      <th>6</th>\n",
       "      <td>Unforgettable (1996)</td>\n",
       "      <td>Mystery|Sci-Fi|Thriller</td>\n",
       "      <td>4.0</td>\n",
       "    </tr>\n",
       "    <tr>\n",
       "      <th>14</th>\n",
       "      <td>Eat Drink Man Woman (Yin shi nan nu) (1994)</td>\n",
       "      <td>Comedy|Drama|Romance</td>\n",
       "      <td>4.0</td>\n",
       "    </tr>\n",
       "    <tr>\n",
       "      <th>13</th>\n",
       "      <td>Total Eclipse (1995)</td>\n",
       "      <td>Drama|Romance</td>\n",
       "      <td>4.0</td>\n",
       "    </tr>\n",
       "  </tbody>\n",
       "</table>\n",
       "</div>"
      ],
      "text/plain": [
       "                                          title  \\\n",
       "21                             Crow, The (1994)   \n",
       "34                           Shadowlands (1993)   \n",
       "6                          Unforgettable (1996)   \n",
       "14  Eat Drink Man Woman (Yin shi nan nu) (1994)   \n",
       "13                         Total Eclipse (1995)   \n",
       "\n",
       "                           genres  rating  \n",
       "21  Action|Crime|Fantasy|Thriller     4.0  \n",
       "34                  Drama|Romance     4.5  \n",
       "6         Mystery|Sci-Fi|Thriller     4.0  \n",
       "14           Comedy|Drama|Romance     4.0  \n",
       "13                  Drama|Romance     4.0  "
      ]
     },
     "execution_count": 11,
     "metadata": {},
     "output_type": "execute_result"
    }
   ],
   "source": [
    "USER_ID = 2\n",
    "NUM_RECS = 5\n",
    "\n",
    "rated, rec, least_rec = get_recommendations(df_ratings, df_movies, USER_ID, NUM_RECS, new_item_map)\n",
    "rated"
   ]
  },
  {
   "cell_type": "code",
   "execution_count": 12,
   "id": "f6594e90-d56c-4b5d-87fc-dcf7d5d35e41",
   "metadata": {},
   "outputs": [
    {
     "data": {
      "text/html": [
       "<div>\n",
       "<style scoped>\n",
       "    .dataframe tbody tr th:only-of-type {\n",
       "        vertical-align: middle;\n",
       "    }\n",
       "\n",
       "    .dataframe tbody tr th {\n",
       "        vertical-align: top;\n",
       "    }\n",
       "\n",
       "    .dataframe thead th {\n",
       "        text-align: right;\n",
       "    }\n",
       "</style>\n",
       "<table border=\"1\" class=\"dataframe\">\n",
       "  <thead>\n",
       "    <tr style=\"text-align: right;\">\n",
       "      <th></th>\n",
       "      <th>title</th>\n",
       "      <th>genres</th>\n",
       "    </tr>\n",
       "    <tr>\n",
       "      <th>movieId</th>\n",
       "      <th></th>\n",
       "      <th></th>\n",
       "    </tr>\n",
       "  </thead>\n",
       "  <tbody>\n",
       "    <tr>\n",
       "      <th>360</th>\n",
       "      <td>I Love Trouble (1994)</td>\n",
       "      <td>Action|Comedy</td>\n",
       "    </tr>\n",
       "    <tr>\n",
       "      <th>412</th>\n",
       "      <td>Age of Innocence, The (1993)</td>\n",
       "      <td>Drama</td>\n",
       "    </tr>\n",
       "    <tr>\n",
       "      <th>338</th>\n",
       "      <td>Virtuosity (1995)</td>\n",
       "      <td>Action|Sci-Fi|Thriller</td>\n",
       "    </tr>\n",
       "    <tr>\n",
       "      <th>735</th>\n",
       "      <td>Cemetery Man (Dellamorte Dellamore) (1994)</td>\n",
       "      <td>Horror</td>\n",
       "    </tr>\n",
       "    <tr>\n",
       "      <th>300</th>\n",
       "      <td>Quiz Show (1994)</td>\n",
       "      <td>Drama</td>\n",
       "    </tr>\n",
       "  </tbody>\n",
       "</table>\n",
       "</div>"
      ],
      "text/plain": [
       "                                              title                  genres\n",
       "movieId                                                                    \n",
       "360                           I Love Trouble (1994)           Action|Comedy\n",
       "412                    Age of Innocence, The (1993)                   Drama\n",
       "338                               Virtuosity (1995)  Action|Sci-Fi|Thriller\n",
       "735      Cemetery Man (Dellamorte Dellamore) (1994)                  Horror\n",
       "300                                Quiz Show (1994)                   Drama"
      ]
     },
     "execution_count": 12,
     "metadata": {},
     "output_type": "execute_result"
    }
   ],
   "source": [
    "rec"
   ]
  }
 ],
 "metadata": {
  "kernelspec": {
   "display_name": "Python 3 (ipykernel)",
   "language": "python",
   "name": "python3"
  },
  "language_info": {
   "codemirror_mode": {
    "name": "ipython",
    "version": 3
   },
   "file_extension": ".py",
   "mimetype": "text/x-python",
   "name": "python",
   "nbconvert_exporter": "python",
   "pygments_lexer": "ipython3",
   "version": "3.8.10"
  }
 },
 "nbformat": 4,
 "nbformat_minor": 5
}
