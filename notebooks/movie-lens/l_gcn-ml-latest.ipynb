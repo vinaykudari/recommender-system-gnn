{
 "cells": [
  {
   "cell_type": "markdown",
   "id": "57592146-6c99-4ef5-a8f1-e930876875b4",
   "metadata": {},
   "source": [
    "LightGCN: Simplifying and Powering Graph Convolution Network for Recommendation\n",
    "- Link: [Paper](https://arxiv.org/pdf/2002.02126.pdf)"
   ]
  },
  {
   "cell_type": "code",
   "execution_count": 1,
   "id": "6b16090b-a0b1-4432-a37c-0643beefc8d8",
   "metadata": {},
   "outputs": [
    {
     "name": "stderr",
     "output_type": "stream",
     "text": [
      "/Users/vinay/miniforge3/lib/python3.9/site-packages/jax/_src/lib/__init__.py:32: UserWarning: JAX on Mac ARM machines is experimental and minimally tested. Please see https://github.com/google/jax/issues/5501 in the event of problems.\n",
      "  warnings.warn(\"JAX on Mac ARM machines is experimental and minimally tested. \"\n"
     ]
    }
   ],
   "source": [
    "import sys\n",
    "sys.path.append('../../')\n",
    "import random\n",
    "import time\n",
    "from pathlib import Path\n",
    "\n",
    "import pandas as pd\n",
    "import numpy as np\n",
    "from sklearn.model_selection import train_test_split\n",
    "\n",
    "import torch\n",
    "from torch import optim\n",
    "from torch_sparse import SparseTensor\n",
    "\n",
    "from helper.lite_gcn_utils import *\n",
    "from models.lite_gcn import LightGCN"
   ]
  },
  {
   "cell_type": "code",
   "execution_count": 2,
   "id": "ef484312-9749-4023-8b84-906957eae127",
   "metadata": {},
   "outputs": [],
   "source": [
    "BASE_PATH = Path('../../raw_data/movie-lens/ml-latest-small')\n",
    "RATING_THRESHOLD = 4."
   ]
  },
  {
   "cell_type": "code",
   "execution_count": 3,
   "id": "f7946230-b662-4582-8c6b-06889ede57cb",
   "metadata": {},
   "outputs": [],
   "source": [
    "df_movies = pd.read_csv(BASE_PATH/'movies.csv', index_col='movieId')\n",
    "df_links = pd.read_csv(BASE_PATH/'links.csv')\n",
    "df_tags = pd.read_csv(BASE_PATH/'tags.csv')\n",
    "df_ratings = pd.read_csv(BASE_PATH/'ratings.csv', index_col='userId')"
   ]
  },
  {
   "cell_type": "code",
   "execution_count": 4,
   "id": "b82f9aa4-32a9-4515-8ec6-3c213b813075",
   "metadata": {},
   "outputs": [],
   "source": [
    "user_map, new_user_map = map_to_index(df_ratings)\n",
    "item_map, new_item_map = map_to_index(df_movies)\n",
    "edge_index = get_edges(\n",
    "    df=df_ratings,\n",
    "    edge_col='rating',\n",
    "    item_col='movieId',\n",
    "    user_map=user_map,\n",
    "    item_map=item_map,\n",
    "    thresh=RATING_THRESHOLD,\n",
    ")\n",
    "\n",
    "num_users, num_movies = len(user_map), len(item_map)\n",
    "num_interactions = edge_index.shape[1]\n",
    "\n",
    "all_indices = [i for i in range(num_interactions)]\n",
    "train_indices, test_indices = train_test_split(\n",
    "    all_indices, test_size=0.2, random_state=1,\n",
    ")\n",
    "val_indices, test_indices = train_test_split(\n",
    "    test_indices, test_size=0.5, random_state=1,\n",
    ")\n",
    "\n",
    "train_edge_index = edge_index[:, train_indices]\n",
    "val_edge_index = edge_index[:, val_indices]\n",
    "test_edge_index = edge_index[:, test_indices]\n",
    "\n",
    "train_sparse_edge_index = SparseTensor(\n",
    "    row=train_edge_index[0], col=train_edge_index[1], \n",
    "    sparse_sizes=(\n",
    "        num_users + num_movies, num_users + num_movies,\n",
    "    ),\n",
    ")\n",
    "val_sparse_edge_index = SparseTensor(\n",
    "    row=val_edge_index[0], col=val_edge_index[1],\n",
    "    sparse_sizes=(\n",
    "        num_users + num_movies, num_users + num_movies,\n",
    "    ),\n",
    ")\n",
    "test_sparse_edge_index = SparseTensor(\n",
    "    row=test_edge_index[0], col=test_edge_index[1],\n",
    "    sparse_sizes=(\n",
    "        num_users + num_movies, num_users + num_movies,\n",
    "    ),\n",
    ")"
   ]
  },
  {
   "cell_type": "code",
   "execution_count": 5,
   "id": "46445260-8818-4809-9796-5355f693aae1",
   "metadata": {},
   "outputs": [
    {
     "name": "stdout",
     "output_type": "stream",
     "text": [
      "Using device cpu\n"
     ]
    }
   ],
   "source": [
    "EMBEDDING_DIM = 64\n",
    "ITERATIONS = 20000\n",
    "BATCH_SIZE = 1024\n",
    "LR = 1e-3\n",
    "ITERS_PER_EVAL = 200\n",
    "ITERS_PER_LR_DECAY = 200\n",
    "K = 20\n",
    "LAMBDA = 1e-6\n",
    "\n",
    "model = LightGCN(\n",
    "    num_users, \n",
    "    num_movies,\n",
    "    emb_dim=EMBEDDING_DIM,\n",
    "    num_layers=5,\n",
    ")\n",
    "device = torch.device('cuda' if torch.cuda.is_available() else 'cpu')\n",
    "print(f'Using device {device}')\n",
    "\n",
    "model = model.to(device)\n",
    "model.train()\n",
    "\n",
    "optimizer = optim.Adam(model.parameters(), lr=LR)\n",
    "scheduler = optim.lr_scheduler.ExponentialLR(optimizer, gamma=0.95)\n",
    "\n",
    "edge_index = edge_index.to(device)\n",
    "train_edge_index = train_edge_index.to(device)\n",
    "train_sparse_edge_index = train_sparse_edge_index.to(device)\n",
    "\n",
    "val_edge_index = val_edge_index.to(device)\n",
    "val_sparse_edge_index = val_sparse_edge_index.to(device)"
   ]
  },
  {
   "cell_type": "code",
   "execution_count": 6,
   "id": "1e3cdced-6846-42fc-a666-ceee89dc2415",
   "metadata": {
    "collapsed": true,
    "jupyter": {
     "outputs_hidden": true
    },
    "tags": []
   },
   "outputs": [
    {
     "name": "stdout",
     "output_type": "stream",
     "text": [
      "[0/20000] train_loss: -0.69513, val_loss: -0.70248, val_recall@20: 0.00068, val_precision@20: 0.00036\n",
      "[200/20000] train_loss: -0.70107, val_loss: -0.71298, val_recall@20: 0.01408, val_precision@20: 0.00389\n",
      "[400/20000] train_loss: -0.76722, val_loss: -0.79573, val_recall@20: 0.07715, val_precision@20: 0.0226\n",
      "[600/20000] train_loss: -1.0482, val_loss: -1.11586, val_recall@20: 0.08921, val_precision@20: 0.02577\n",
      "[800/20000] train_loss: -1.63783, val_loss: -1.77852, val_recall@20: 0.08301, val_precision@20: 0.02568\n",
      "[1000/20000] train_loss: -2.47143, val_loss: -2.75097, val_recall@20: 0.08034, val_precision@20: 0.02532\n",
      "[1200/20000] train_loss: -3.48431, val_loss: -3.8708, val_recall@20: 0.08034, val_precision@20: 0.02514\n",
      "[1400/20000] train_loss: -4.6815, val_loss: -5.04287, val_recall@20: 0.07901, val_precision@20: 0.02523\n",
      "[1600/20000] train_loss: -5.88787, val_loss: -6.36449, val_recall@20: 0.07885, val_precision@20: 0.02514\n",
      "[1800/20000] train_loss: -7.00615, val_loss: -7.62397, val_recall@20: 0.07727, val_precision@20: 0.02514\n",
      "[2000/20000] train_loss: -8.22872, val_loss: -8.85932, val_recall@20: 0.07526, val_precision@20: 0.02505\n",
      "[2200/20000] train_loss: -9.55789, val_loss: -10.22579, val_recall@20: 0.07526, val_precision@20: 0.02532\n",
      "[2400/20000] train_loss: -10.79894, val_loss: -11.46679, val_recall@20: 0.07532, val_precision@20: 0.0255\n",
      "[2600/20000] train_loss: -11.49481, val_loss: -12.77318, val_recall@20: 0.07712, val_precision@20: 0.02532\n",
      "[2800/20000] train_loss: -13.01177, val_loss: -13.88991, val_recall@20: 0.07694, val_precision@20: 0.02523\n",
      "[3000/20000] train_loss: -13.38912, val_loss: -14.98094, val_recall@20: 0.07649, val_precision@20: 0.02514\n",
      "[3200/20000] train_loss: -14.90202, val_loss: -16.24198, val_recall@20: 0.07577, val_precision@20: 0.02495\n",
      "[3400/20000] train_loss: -15.80074, val_loss: -17.22698, val_recall@20: 0.07556, val_precision@20: 0.02486\n",
      "[3600/20000] train_loss: -16.5796, val_loss: -18.31185, val_recall@20: 0.07573, val_precision@20: 0.02486\n"
     ]
    },
    {
     "ename": "KeyboardInterrupt",
     "evalue": "",
     "output_type": "error",
     "traceback": [
      "\u001b[0;31m---------------------------------------------------------------------------\u001b[0m",
      "\u001b[0;31mKeyboardInterrupt\u001b[0m                         Traceback (most recent call last)",
      "\u001b[0;32m/var/folders/78/_bz_v2_103ld252mxn9ml9c00000gn/T/ipykernel_73399/238565689.py\u001b[0m in \u001b[0;36m<module>\u001b[0;34m\u001b[0m\n\u001b[1;32m      3\u001b[0m \u001b[0;34m\u001b[0m\u001b[0m\n\u001b[1;32m      4\u001b[0m \u001b[0;32mfor\u001b[0m \u001b[0mi\u001b[0m \u001b[0;32min\u001b[0m \u001b[0mrange\u001b[0m\u001b[0;34m(\u001b[0m\u001b[0mITERATIONS\u001b[0m\u001b[0;34m)\u001b[0m\u001b[0;34m:\u001b[0m\u001b[0;34m\u001b[0m\u001b[0;34m\u001b[0m\u001b[0m\n\u001b[0;32m----> 5\u001b[0;31m     users_emb_final, users_emb_0, items_emb_final, items_emb_0 = model.forward(\n\u001b[0m\u001b[1;32m      6\u001b[0m         \u001b[0mtrain_sparse_edge_index\u001b[0m\u001b[0;34m,\u001b[0m\u001b[0;34m\u001b[0m\u001b[0;34m\u001b[0m\u001b[0m\n\u001b[1;32m      7\u001b[0m     )\n",
      "\u001b[0;32m~/ub/spring-22/CSE676-DL/project/recommender-system-gnn/notebooks/movie-lens/../../models/lite_gcn.py\u001b[0m in \u001b[0;36mforward\u001b[0;34m(self, edge_index, **kwargs)\u001b[0m\n\u001b[1;32m     59\u001b[0m         \u001b[0;31m# multi-scale diffusion\u001b[0m\u001b[0;34m\u001b[0m\u001b[0;34m\u001b[0m\u001b[0m\n\u001b[1;32m     60\u001b[0m         \u001b[0;32mfor\u001b[0m \u001b[0mi\u001b[0m \u001b[0;32min\u001b[0m \u001b[0mrange\u001b[0m\u001b[0;34m(\u001b[0m\u001b[0mself\u001b[0m\u001b[0;34m.\u001b[0m\u001b[0mnum_layers\u001b[0m\u001b[0;34m)\u001b[0m\u001b[0;34m:\u001b[0m\u001b[0;34m\u001b[0m\u001b[0;34m\u001b[0m\u001b[0m\n\u001b[0;32m---> 61\u001b[0;31m             \u001b[0memb_k\u001b[0m \u001b[0;34m=\u001b[0m \u001b[0mself\u001b[0m\u001b[0;34m.\u001b[0m\u001b[0mpropagate\u001b[0m\u001b[0;34m(\u001b[0m\u001b[0medge_index_norm\u001b[0m\u001b[0;34m,\u001b[0m \u001b[0mx\u001b[0m\u001b[0;34m=\u001b[0m\u001b[0memb_k\u001b[0m\u001b[0;34m)\u001b[0m\u001b[0;34m\u001b[0m\u001b[0;34m\u001b[0m\u001b[0m\n\u001b[0m\u001b[1;32m     62\u001b[0m             \u001b[0membs\u001b[0m\u001b[0;34m.\u001b[0m\u001b[0mappend\u001b[0m\u001b[0;34m(\u001b[0m\u001b[0memb_k\u001b[0m\u001b[0;34m)\u001b[0m\u001b[0;34m\u001b[0m\u001b[0;34m\u001b[0m\u001b[0m\n\u001b[1;32m     63\u001b[0m \u001b[0;34m\u001b[0m\u001b[0m\n",
      "\u001b[0;32m~/miniforge3/lib/python3.9/site-packages/torch_geometric/nn/conv/message_passing.py\u001b[0m in \u001b[0;36mpropagate\u001b[0;34m(self, edge_index, size, **kwargs)\u001b[0m\n\u001b[1;32m    282\u001b[0m                 \u001b[0;32mif\u001b[0m \u001b[0mres\u001b[0m \u001b[0;32mis\u001b[0m \u001b[0;32mnot\u001b[0m \u001b[0;32mNone\u001b[0m\u001b[0;34m:\u001b[0m\u001b[0;34m\u001b[0m\u001b[0;34m\u001b[0m\u001b[0m\n\u001b[1;32m    283\u001b[0m                     \u001b[0medge_index\u001b[0m\u001b[0;34m,\u001b[0m \u001b[0mmsg_aggr_kwargs\u001b[0m \u001b[0;34m=\u001b[0m \u001b[0mres\u001b[0m\u001b[0;34m\u001b[0m\u001b[0;34m\u001b[0m\u001b[0m\n\u001b[0;32m--> 284\u001b[0;31m             \u001b[0mout\u001b[0m \u001b[0;34m=\u001b[0m \u001b[0mself\u001b[0m\u001b[0;34m.\u001b[0m\u001b[0mmessage_and_aggregate\u001b[0m\u001b[0;34m(\u001b[0m\u001b[0medge_index\u001b[0m\u001b[0;34m,\u001b[0m \u001b[0;34m**\u001b[0m\u001b[0mmsg_aggr_kwargs\u001b[0m\u001b[0;34m)\u001b[0m\u001b[0;34m\u001b[0m\u001b[0;34m\u001b[0m\u001b[0m\n\u001b[0m\u001b[1;32m    285\u001b[0m             \u001b[0;32mfor\u001b[0m \u001b[0mhook\u001b[0m \u001b[0;32min\u001b[0m \u001b[0mself\u001b[0m\u001b[0;34m.\u001b[0m\u001b[0m_message_and_aggregate_forward_hooks\u001b[0m\u001b[0;34m.\u001b[0m\u001b[0mvalues\u001b[0m\u001b[0;34m(\u001b[0m\u001b[0;34m)\u001b[0m\u001b[0;34m:\u001b[0m\u001b[0;34m\u001b[0m\u001b[0;34m\u001b[0m\u001b[0m\n\u001b[1;32m    286\u001b[0m                 \u001b[0mres\u001b[0m \u001b[0;34m=\u001b[0m \u001b[0mhook\u001b[0m\u001b[0;34m(\u001b[0m\u001b[0mself\u001b[0m\u001b[0;34m,\u001b[0m \u001b[0;34m(\u001b[0m\u001b[0medge_index\u001b[0m\u001b[0;34m,\u001b[0m \u001b[0mmsg_aggr_kwargs\u001b[0m\u001b[0;34m)\u001b[0m\u001b[0;34m,\u001b[0m \u001b[0mout\u001b[0m\u001b[0;34m)\u001b[0m\u001b[0;34m\u001b[0m\u001b[0;34m\u001b[0m\u001b[0m\n",
      "\u001b[0;32m~/ub/spring-22/CSE676-DL/project/recommender-system-gnn/notebooks/movie-lens/../../models/lite_gcn.py\u001b[0m in \u001b[0;36mmessage_and_aggregate\u001b[0;34m(self, adj_t, x)\u001b[0m\n\u001b[1;32m     75\u001b[0m \u001b[0;34m\u001b[0m\u001b[0m\n\u001b[1;32m     76\u001b[0m     \u001b[0;32mdef\u001b[0m \u001b[0mmessage_and_aggregate\u001b[0m\u001b[0;34m(\u001b[0m\u001b[0mself\u001b[0m\u001b[0;34m,\u001b[0m \u001b[0madj_t\u001b[0m\u001b[0;34m,\u001b[0m \u001b[0mx\u001b[0m\u001b[0;34m)\u001b[0m\u001b[0;34m:\u001b[0m\u001b[0;34m\u001b[0m\u001b[0;34m\u001b[0m\u001b[0m\n\u001b[0;32m---> 77\u001b[0;31m         \u001b[0;32mreturn\u001b[0m \u001b[0mmatmul\u001b[0m\u001b[0;34m(\u001b[0m\u001b[0madj_t\u001b[0m\u001b[0;34m,\u001b[0m \u001b[0mx\u001b[0m\u001b[0;34m)\u001b[0m\u001b[0;34m\u001b[0m\u001b[0;34m\u001b[0m\u001b[0m\n\u001b[0m",
      "\u001b[0;32m~/miniforge3/lib/python3.9/site-packages/torch_sparse/matmul.py\u001b[0m in \u001b[0;36mmatmul\u001b[0;34m(src, other, reduce)\u001b[0m\n\u001b[1;32m    136\u001b[0m \u001b[0;32mdef\u001b[0m \u001b[0mmatmul\u001b[0m\u001b[0;34m(\u001b[0m\u001b[0msrc\u001b[0m\u001b[0;34m,\u001b[0m \u001b[0mother\u001b[0m\u001b[0;34m,\u001b[0m \u001b[0mreduce\u001b[0m\u001b[0;34m=\u001b[0m\u001b[0;34m\"sum\"\u001b[0m\u001b[0;34m)\u001b[0m\u001b[0;34m:\u001b[0m  \u001b[0;31m# noqa: F811\u001b[0m\u001b[0;34m\u001b[0m\u001b[0;34m\u001b[0m\u001b[0m\n\u001b[1;32m    137\u001b[0m     \u001b[0;32mif\u001b[0m \u001b[0misinstance\u001b[0m\u001b[0;34m(\u001b[0m\u001b[0mother\u001b[0m\u001b[0;34m,\u001b[0m \u001b[0mtorch\u001b[0m\u001b[0;34m.\u001b[0m\u001b[0mTensor\u001b[0m\u001b[0;34m)\u001b[0m\u001b[0;34m:\u001b[0m\u001b[0;34m\u001b[0m\u001b[0;34m\u001b[0m\u001b[0m\n\u001b[0;32m--> 138\u001b[0;31m         \u001b[0;32mreturn\u001b[0m \u001b[0mspmm\u001b[0m\u001b[0;34m(\u001b[0m\u001b[0msrc\u001b[0m\u001b[0;34m,\u001b[0m \u001b[0mother\u001b[0m\u001b[0;34m,\u001b[0m \u001b[0mreduce\u001b[0m\u001b[0;34m)\u001b[0m\u001b[0;34m\u001b[0m\u001b[0;34m\u001b[0m\u001b[0m\n\u001b[0m\u001b[1;32m    139\u001b[0m     \u001b[0;32melif\u001b[0m \u001b[0misinstance\u001b[0m\u001b[0;34m(\u001b[0m\u001b[0mother\u001b[0m\u001b[0;34m,\u001b[0m \u001b[0mSparseTensor\u001b[0m\u001b[0;34m)\u001b[0m\u001b[0;34m:\u001b[0m\u001b[0;34m\u001b[0m\u001b[0;34m\u001b[0m\u001b[0m\n\u001b[1;32m    140\u001b[0m         \u001b[0;32mreturn\u001b[0m \u001b[0mspspmm\u001b[0m\u001b[0;34m(\u001b[0m\u001b[0msrc\u001b[0m\u001b[0;34m,\u001b[0m \u001b[0mother\u001b[0m\u001b[0;34m,\u001b[0m \u001b[0mreduce\u001b[0m\u001b[0;34m)\u001b[0m\u001b[0;34m\u001b[0m\u001b[0;34m\u001b[0m\u001b[0m\n",
      "\u001b[0;32m~/miniforge3/lib/python3.9/site-packages/torch_sparse/matmul.py\u001b[0m in \u001b[0;36mspmm\u001b[0;34m(src, other, reduce)\u001b[0m\n\u001b[1;32m     79\u001b[0m          reduce: str = \"sum\") -> torch.Tensor:\n\u001b[1;32m     80\u001b[0m     \u001b[0;32mif\u001b[0m \u001b[0mreduce\u001b[0m \u001b[0;34m==\u001b[0m \u001b[0;34m'sum'\u001b[0m \u001b[0;32mor\u001b[0m \u001b[0mreduce\u001b[0m \u001b[0;34m==\u001b[0m \u001b[0;34m'add'\u001b[0m\u001b[0;34m:\u001b[0m\u001b[0;34m\u001b[0m\u001b[0;34m\u001b[0m\u001b[0m\n\u001b[0;32m---> 81\u001b[0;31m         \u001b[0;32mreturn\u001b[0m \u001b[0mspmm_sum\u001b[0m\u001b[0;34m(\u001b[0m\u001b[0msrc\u001b[0m\u001b[0;34m,\u001b[0m \u001b[0mother\u001b[0m\u001b[0;34m)\u001b[0m\u001b[0;34m\u001b[0m\u001b[0;34m\u001b[0m\u001b[0m\n\u001b[0m\u001b[1;32m     82\u001b[0m     \u001b[0;32melif\u001b[0m \u001b[0mreduce\u001b[0m \u001b[0;34m==\u001b[0m \u001b[0;34m'mean'\u001b[0m\u001b[0;34m:\u001b[0m\u001b[0;34m\u001b[0m\u001b[0;34m\u001b[0m\u001b[0m\n\u001b[1;32m     83\u001b[0m         \u001b[0;32mreturn\u001b[0m \u001b[0mspmm_mean\u001b[0m\u001b[0;34m(\u001b[0m\u001b[0msrc\u001b[0m\u001b[0;34m,\u001b[0m \u001b[0mother\u001b[0m\u001b[0;34m)\u001b[0m\u001b[0;34m\u001b[0m\u001b[0;34m\u001b[0m\u001b[0m\n",
      "\u001b[0;32m~/miniforge3/lib/python3.9/site-packages/torch_sparse/matmul.py\u001b[0m in \u001b[0;36mspmm_sum\u001b[0;34m(src, other)\u001b[0m\n\u001b[1;32m     21\u001b[0m     \u001b[0;32mif\u001b[0m \u001b[0mother\u001b[0m\u001b[0;34m.\u001b[0m\u001b[0mrequires_grad\u001b[0m\u001b[0;34m:\u001b[0m\u001b[0;34m\u001b[0m\u001b[0;34m\u001b[0m\u001b[0m\n\u001b[1;32m     22\u001b[0m         \u001b[0mrow\u001b[0m \u001b[0;34m=\u001b[0m \u001b[0msrc\u001b[0m\u001b[0;34m.\u001b[0m\u001b[0mstorage\u001b[0m\u001b[0;34m.\u001b[0m\u001b[0mrow\u001b[0m\u001b[0;34m(\u001b[0m\u001b[0;34m)\u001b[0m\u001b[0;34m\u001b[0m\u001b[0;34m\u001b[0m\u001b[0m\n\u001b[0;32m---> 23\u001b[0;31m         \u001b[0mcsr2csc\u001b[0m \u001b[0;34m=\u001b[0m \u001b[0msrc\u001b[0m\u001b[0;34m.\u001b[0m\u001b[0mstorage\u001b[0m\u001b[0;34m.\u001b[0m\u001b[0mcsr2csc\u001b[0m\u001b[0;34m(\u001b[0m\u001b[0;34m)\u001b[0m\u001b[0;34m\u001b[0m\u001b[0;34m\u001b[0m\u001b[0m\n\u001b[0m\u001b[1;32m     24\u001b[0m         \u001b[0mcolptr\u001b[0m \u001b[0;34m=\u001b[0m \u001b[0msrc\u001b[0m\u001b[0;34m.\u001b[0m\u001b[0mstorage\u001b[0m\u001b[0;34m.\u001b[0m\u001b[0mcolptr\u001b[0m\u001b[0;34m(\u001b[0m\u001b[0;34m)\u001b[0m\u001b[0;34m\u001b[0m\u001b[0;34m\u001b[0m\u001b[0m\n\u001b[1;32m     25\u001b[0m \u001b[0;34m\u001b[0m\u001b[0m\n",
      "\u001b[0;32m~/miniforge3/lib/python3.9/site-packages/torch_sparse/storage.py\u001b[0m in \u001b[0;36mcsr2csc\u001b[0;34m(self)\u001b[0m\n\u001b[1;32m    376\u001b[0m \u001b[0;34m\u001b[0m\u001b[0m\n\u001b[1;32m    377\u001b[0m         \u001b[0midx\u001b[0m \u001b[0;34m=\u001b[0m \u001b[0mself\u001b[0m\u001b[0;34m.\u001b[0m\u001b[0m_sparse_sizes\u001b[0m\u001b[0;34m[\u001b[0m\u001b[0;36m0\u001b[0m\u001b[0;34m]\u001b[0m \u001b[0;34m*\u001b[0m \u001b[0mself\u001b[0m\u001b[0;34m.\u001b[0m\u001b[0m_col\u001b[0m \u001b[0;34m+\u001b[0m \u001b[0mself\u001b[0m\u001b[0;34m.\u001b[0m\u001b[0mrow\u001b[0m\u001b[0;34m(\u001b[0m\u001b[0;34m)\u001b[0m\u001b[0;34m\u001b[0m\u001b[0;34m\u001b[0m\u001b[0m\n\u001b[0;32m--> 378\u001b[0;31m         \u001b[0mcsr2csc\u001b[0m \u001b[0;34m=\u001b[0m \u001b[0midx\u001b[0m\u001b[0;34m.\u001b[0m\u001b[0margsort\u001b[0m\u001b[0;34m(\u001b[0m\u001b[0;34m)\u001b[0m\u001b[0;34m\u001b[0m\u001b[0;34m\u001b[0m\u001b[0m\n\u001b[0m\u001b[1;32m    379\u001b[0m         \u001b[0mself\u001b[0m\u001b[0;34m.\u001b[0m\u001b[0m_csr2csc\u001b[0m \u001b[0;34m=\u001b[0m \u001b[0mcsr2csc\u001b[0m\u001b[0;34m\u001b[0m\u001b[0;34m\u001b[0m\u001b[0m\n\u001b[1;32m    380\u001b[0m         \u001b[0;32mreturn\u001b[0m \u001b[0mcsr2csc\u001b[0m\u001b[0;34m\u001b[0m\u001b[0;34m\u001b[0m\u001b[0m\n",
      "\u001b[0;31mKeyboardInterrupt\u001b[0m: "
     ]
    }
   ],
   "source": [
    "train_losses = []\n",
    "val_losses = []\n",
    "\n",
    "for i in range(ITERATIONS):\n",
    "    users_emb_final, users_emb_0, items_emb_final, items_emb_0 = model.forward(\n",
    "        train_sparse_edge_index,\n",
    "    )\n",
    "    user_indices, pos_item_indices, neg_item_indices = sample(\n",
    "        BATCH_SIZE, train_edge_index,\n",
    "    )\n",
    "    user_indices, pos_item_indices, neg_item_indices = user_indices.to(device), pos_item_indices.to(device), neg_item_indices.to(device)\n",
    "    users_emb_final, users_emb_0 = users_emb_final[user_indices], users_emb_0[user_indices]\n",
    "    pos_items_emb_final, pos_items_emb_0 = items_emb_final[pos_item_indices], items_emb_0[pos_item_indices]\n",
    "    neg_items_emb_final, neg_items_emb_0 = items_emb_final[neg_item_indices], items_emb_0[neg_item_indices]\n",
    "\n",
    "    # loss computation\n",
    "    train_loss = bpr_loss(\n",
    "        users_emb_final, users_emb_0,\n",
    "        pos_items_emb_final, pos_items_emb_0,\n",
    "        neg_items_emb_final, neg_items_emb_0,\n",
    "        LAMBDA,\n",
    "    )\n",
    "\n",
    "    optimizer.zero_grad()\n",
    "    train_loss.backward()\n",
    "    optimizer.step()\n",
    "\n",
    "    if i % ITERS_PER_EVAL == 0:\n",
    "        model.eval()\n",
    "        val_loss, recall, precision = evaluation(\n",
    "            model, val_edge_index, \n",
    "            val_sparse_edge_index, [train_edge_index],\n",
    "            K, LAMBDA,\n",
    "        )\n",
    "        print(f\"[{i}/{ITERATIONS}] train_loss: {round(train_loss.item(), 5)}, val_loss: {round(val_loss, 5)}, val_recall@{K}: {round(recall, 5)}, val_precision@{K}: {round(precision, 5)}\")\n",
    "        train_losses.append(train_loss.item())\n",
    "        val_losses.append(val_loss)\n",
    "        model.train()\n",
    "\n",
    "    if i % ITERS_PER_LR_DECAY == 0 and i != 0:\n",
    "        scheduler.step()"
   ]
  },
  {
   "cell_type": "code",
   "execution_count": 7,
   "id": "0363d28c-c605-40b4-bb93-4e63b6e3fd84",
   "metadata": {},
   "outputs": [
    {
     "name": "stdout",
     "output_type": "stream",
     "text": [
      "[test_loss: -17.23666, test_recall@20: 0.07764, test_precision@20: 0.02717\n"
     ]
    }
   ],
   "source": [
    "# evaluate on test set\n",
    "model.eval()\n",
    "test_edge_index = test_edge_index.to(device)\n",
    "test_sparse_edge_index = test_sparse_edge_index.to(device)\n",
    "\n",
    "test_loss, test_recall, test_precision = evaluation(\n",
    "            model, test_edge_index, test_sparse_edge_index, [train_edge_index, val_edge_index], K, LAMBDA)\n",
    "\n",
    "print(f\"[test_loss: {round(test_loss, 5)}, test_recall@{K}: {round(test_recall, 5)}, test_precision@{K}: {round(test_precision, 5)}\")"
   ]
  },
  {
   "cell_type": "code",
   "execution_count": 8,
   "id": "b50acb3e-e54e-4df5-88b2-dadcf2dab7d1",
   "metadata": {},
   "outputs": [],
   "source": [
    "model.eval()\n",
    "movieid_title = pd.Series(df_movies.title.values).to_dict()\n",
    "movieid_genres = pd.Series(df_movies.genres.values).to_dict()\n",
    "\n",
    "user_pos_items = get_user_positive_items(edge_index)\n",
    "\n",
    "def get_recommendations(df_ratings, df_movies, user_id, n, new_item_map):\n",
    "    new_user_id = user_map[user_id]\n",
    "    user_embed = model.user_emb.weight[new_user_id]\n",
    "    scores = model.item_emb.weight @ user_embed\n",
    "    \n",
    "    df_ratings = df_ratings[(df_ratings.movieId == user_id) & (df_ratings.rating >= RATING_THRESHOLD)]\n",
    "    top_rated = pd.merge(\n",
    "        df_movies, df_ratings, \n",
    "        left_on=df_movies.index, right_on=df_ratings.index,\n",
    "    ).sort_values(by='rating', ascending=False)[['title', 'genres', 'rating']]\n",
    "    \n",
    "    values, indices = torch.topk(scores, k=len(user_pos_items[new_user_id]))\n",
    "    recommended = []\n",
    "    m = min(n, indices.shape[0])\n",
    "    \n",
    "    for i in range(m):\n",
    "        if indices[i] not in user_pos_items[new_user_id]:\n",
    "            recommended.append(new_item_map[indices[i].cpu().item()])\n",
    "        \n",
    "    rec_movies = df_movies.iloc[recommended, :][['title', 'genres']]\n",
    "    \n",
    "    return top_rated.sample(n), rec_movies.head(n), rec_movies[::-1].head(n)\n",
    "   "
   ]
  },
  {
   "cell_type": "code",
   "execution_count": 9,
   "id": "3297e458-5366-48d7-9dcd-56b26e758e6c",
   "metadata": {},
   "outputs": [
    {
     "data": {
      "text/html": [
       "<div>\n",
       "<style scoped>\n",
       "    .dataframe tbody tr th:only-of-type {\n",
       "        vertical-align: middle;\n",
       "    }\n",
       "\n",
       "    .dataframe tbody tr th {\n",
       "        vertical-align: top;\n",
       "    }\n",
       "\n",
       "    .dataframe thead th {\n",
       "        text-align: right;\n",
       "    }\n",
       "</style>\n",
       "<table border=\"1\" class=\"dataframe\">\n",
       "  <thead>\n",
       "    <tr style=\"text-align: right;\">\n",
       "      <th></th>\n",
       "      <th>title</th>\n",
       "      <th>genres</th>\n",
       "      <th>rating</th>\n",
       "    </tr>\n",
       "  </thead>\n",
       "  <tbody>\n",
       "    <tr>\n",
       "      <th>38</th>\n",
       "      <td>Snow White and the Seven Dwarfs (1937)</td>\n",
       "      <td>Animation|Children|Drama|Fantasy|Musical</td>\n",
       "      <td>4.0</td>\n",
       "    </tr>\n",
       "    <tr>\n",
       "      <th>11</th>\n",
       "      <td>Free Willy 2: The Adventure Home (1995)</td>\n",
       "      <td>Adventure|Children|Drama</td>\n",
       "      <td>4.0</td>\n",
       "    </tr>\n",
       "    <tr>\n",
       "      <th>1</th>\n",
       "      <td>Tom and Huck (1995)</td>\n",
       "      <td>Adventure|Children</td>\n",
       "      <td>4.0</td>\n",
       "    </tr>\n",
       "    <tr>\n",
       "      <th>23</th>\n",
       "      <td>When a Man Loves a Woman (1994)</td>\n",
       "      <td>Drama|Romance</td>\n",
       "      <td>4.0</td>\n",
       "    </tr>\n",
       "    <tr>\n",
       "      <th>6</th>\n",
       "      <td>Unforgettable (1996)</td>\n",
       "      <td>Mystery|Sci-Fi|Thriller</td>\n",
       "      <td>4.0</td>\n",
       "    </tr>\n",
       "  </tbody>\n",
       "</table>\n",
       "</div>"
      ],
      "text/plain": [
       "                                      title  \\\n",
       "38   Snow White and the Seven Dwarfs (1937)   \n",
       "11  Free Willy 2: The Adventure Home (1995)   \n",
       "1                       Tom and Huck (1995)   \n",
       "23          When a Man Loves a Woman (1994)   \n",
       "6                      Unforgettable (1996)   \n",
       "\n",
       "                                      genres  rating  \n",
       "38  Animation|Children|Drama|Fantasy|Musical     4.0  \n",
       "11                  Adventure|Children|Drama     4.0  \n",
       "1                         Adventure|Children     4.0  \n",
       "23                             Drama|Romance     4.0  \n",
       "6                    Mystery|Sci-Fi|Thriller     4.0  "
      ]
     },
     "execution_count": 9,
     "metadata": {},
     "output_type": "execute_result"
    }
   ],
   "source": [
    "USER_ID = 2\n",
    "NUM_RECS = 5\n",
    "\n",
    "rated, rec, least_rec = get_recommendations(df_ratings, df_movies, USER_ID, NUM_RECS, new_item_map)\n",
    "rated"
   ]
  },
  {
   "cell_type": "code",
   "execution_count": 10,
   "id": "f6594e90-d56c-4b5d-87fc-dcf7d5d35e41",
   "metadata": {},
   "outputs": [
    {
     "data": {
      "text/html": [
       "<div>\n",
       "<style scoped>\n",
       "    .dataframe tbody tr th:only-of-type {\n",
       "        vertical-align: middle;\n",
       "    }\n",
       "\n",
       "    .dataframe tbody tr th {\n",
       "        vertical-align: top;\n",
       "    }\n",
       "\n",
       "    .dataframe thead th {\n",
       "        text-align: right;\n",
       "    }\n",
       "</style>\n",
       "<table border=\"1\" class=\"dataframe\">\n",
       "  <thead>\n",
       "    <tr style=\"text-align: right;\">\n",
       "      <th></th>\n",
       "      <th>title</th>\n",
       "      <th>genres</th>\n",
       "    </tr>\n",
       "    <tr>\n",
       "      <th>movieId</th>\n",
       "      <th></th>\n",
       "      <th></th>\n",
       "    </tr>\n",
       "  </thead>\n",
       "  <tbody>\n",
       "    <tr>\n",
       "      <th>338</th>\n",
       "      <td>Virtuosity (1995)</td>\n",
       "      <td>Action|Sci-Fi|Thriller</td>\n",
       "    </tr>\n",
       "    <tr>\n",
       "      <th>360</th>\n",
       "      <td>I Love Trouble (1994)</td>\n",
       "      <td>Action|Comedy</td>\n",
       "    </tr>\n",
       "    <tr>\n",
       "      <th>412</th>\n",
       "      <td>Age of Innocence, The (1993)</td>\n",
       "      <td>Drama</td>\n",
       "    </tr>\n",
       "    <tr>\n",
       "      <th>735</th>\n",
       "      <td>Cemetery Man (Dellamorte Dellamore) (1994)</td>\n",
       "      <td>Horror</td>\n",
       "    </tr>\n",
       "    <tr>\n",
       "      <th>3439</th>\n",
       "      <td>Teenage Mutant Ninja Turtles II: The Secret of...</td>\n",
       "      <td>Action|Children|Fantasy</td>\n",
       "    </tr>\n",
       "  </tbody>\n",
       "</table>\n",
       "</div>"
      ],
      "text/plain": [
       "                                                     title  \\\n",
       "movieId                                                      \n",
       "338                                      Virtuosity (1995)   \n",
       "360                                  I Love Trouble (1994)   \n",
       "412                           Age of Innocence, The (1993)   \n",
       "735             Cemetery Man (Dellamorte Dellamore) (1994)   \n",
       "3439     Teenage Mutant Ninja Turtles II: The Secret of...   \n",
       "\n",
       "                          genres  \n",
       "movieId                           \n",
       "338       Action|Sci-Fi|Thriller  \n",
       "360                Action|Comedy  \n",
       "412                        Drama  \n",
       "735                       Horror  \n",
       "3439     Action|Children|Fantasy  "
      ]
     },
     "execution_count": 10,
     "metadata": {},
     "output_type": "execute_result"
    }
   ],
   "source": [
    "rec"
   ]
  }
 ],
 "metadata": {
  "kernelspec": {
   "display_name": "Python 3 (ipykernel)",
   "language": "python",
   "name": "python3"
  },
  "language_info": {
   "codemirror_mode": {
    "name": "ipython",
    "version": 3
   },
   "file_extension": ".py",
   "mimetype": "text/x-python",
   "name": "python",
   "nbconvert_exporter": "python",
   "pygments_lexer": "ipython3",
   "version": "3.7.11"
  }
 },
 "nbformat": 4,
 "nbformat_minor": 5
}
